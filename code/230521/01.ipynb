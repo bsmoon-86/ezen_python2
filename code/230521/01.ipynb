{
 "cells": [
  {
   "attachments": {},
   "cell_type": "markdown",
   "metadata": {},
   "source": [
    "# 튜플, 리스트, 딕셔너리"
   ]
  },
  {
   "cell_type": "code",
   "execution_count": null,
   "metadata": {},
   "outputs": [],
   "source": [
    "# 튜플\n",
    "a = (1, \"hello\")\n",
    "b = (3, 3.14)\n",
    "c = a + b\n",
    "d = a * 3\n",
    "e = a[1]\n",
    "\n",
    "print(a)\n",
    "print(b)\n",
    "print(c)\n",
    "print(d)\n",
    "print(e)"
   ]
  },
  {
   "cell_type": "code",
   "execution_count": null,
   "metadata": {},
   "outputs": [],
   "source": [
    "a = (10, 20, 30, 40, 50)\n",
    "\n",
    "print(a[1:3])"
   ]
  },
  {
   "cell_type": "code",
   "execution_count": null,
   "metadata": {},
   "outputs": [],
   "source": [
    "print(a[1:])\n",
    "print(a[:3])"
   ]
  },
  {
   "cell_type": "code",
   "execution_count": null,
   "metadata": {},
   "outputs": [],
   "source": [
    "# 튜플 데이터 a에서 마지막 값만 출력하려면?\n",
    "print(a[4])\n",
    "print(a[-1])"
   ]
  },
  {
   "cell_type": "code",
   "execution_count": null,
   "metadata": {},
   "outputs": [],
   "source": [
    "# (30, 40, 50)을 출력하려면?\n",
    "print(a[2:])\n",
    "print(a[-3:])"
   ]
  },
  {
   "cell_type": "code",
   "execution_count": null,
   "metadata": {},
   "outputs": [],
   "source": [
    "# 리스트 \n",
    "a = [20, 10, 40, 30]\n",
    "b = [12, 99, 24, 55]\n",
    "\n",
    "# 리스트의 순서를 오름차순 정렬로 변경\n",
    "# sort 안에 reverse 매개변수에 인자 값을 True 변경하면 내림차순 정렬\n",
    "a.sort()\n",
    "# 리스트의 순서를 역순으로 변경\n",
    "b.reverse()\n",
    "\n",
    "print(a)\n",
    "print(b)"
   ]
  },
  {
   "cell_type": "code",
   "execution_count": null,
   "metadata": {},
   "outputs": [],
   "source": [
    "c = [5,4,1,2]\n",
    "\n",
    "d = sorted(c)\n",
    "\n",
    "print(c)\n",
    "print(d)"
   ]
  },
  {
   "cell_type": "code",
   "execution_count": null,
   "metadata": {},
   "outputs": [],
   "source": [
    "# 2차원 리스트\n",
    "a = [\n",
    "    [10, 20], \n",
    "    [30, 40], \n",
    "    [50, 60]\n",
    "]\n",
    "\n",
    "print(a)"
   ]
  },
  {
   "cell_type": "code",
   "execution_count": null,
   "metadata": {},
   "outputs": [],
   "source": [
    "# 20을 출력하려면?\n",
    "# 1. 가장 사이드에 있는 []를 삭제\n",
    "    # 20은 리스트에서 1번째에 위치하기때문에 index = 0\n",
    "print(a[0])\n",
    "# 2. a[0]의 데이터 형태가 리스트이고 20이라는 숫자는 2번째에 위치하기 때문에 index = 1\n",
    "print(a[0][1])"
   ]
  },
  {
   "cell_type": "code",
   "execution_count": null,
   "metadata": {},
   "outputs": [],
   "source": [
    "# 2차원 리스트 a에서 50이라는 값을 출력하려면?\n",
    "print(a[2])\n",
    "print(a[2][0])"
   ]
  },
  {
   "cell_type": "code",
   "execution_count": null,
   "metadata": {},
   "outputs": [],
   "source": [
    "# 딕셔너리 \n",
    "a = {\n",
    "    \"name\" : \"test\", \n",
    "    \"age\" : 20, \n",
    "    \"phone\" : \"01012345678\"\n",
    "}\n",
    "print(a)"
   ]
  },
  {
   "cell_type": "code",
   "execution_count": null,
   "metadata": {},
   "outputs": [],
   "source": [
    "# 딕셔너리 데이터에서 test라는 문자열을 출력하려면?\n",
    "print(a['name'])"
   ]
  },
  {
   "cell_type": "code",
   "execution_count": null,
   "metadata": {},
   "outputs": [],
   "source": [
    "# 새로운 키 : 벨류 를 추가하려면\n",
    "a['area'] = 'Seoul'\n",
    "\n",
    "print(a)"
   ]
  },
  {
   "cell_type": "code",
   "execution_count": null,
   "metadata": {},
   "outputs": [],
   "source": [
    "# 기존의 키 값의 벨류를 변경\n",
    "a['age'] = 30\n",
    "\n",
    "print(a)"
   ]
  },
  {
   "cell_type": "code",
   "execution_count": null,
   "metadata": {},
   "outputs": [],
   "source": [
    "# DB에서 데이터를 받아오는 경우에는 데이터의 형태\n",
    "# [{}, {}, {}]\n",
    "test_data = [\n",
    "    {\n",
    "        'name' : 'test', \n",
    "        \"age\" : 20\n",
    "    }, \n",
    "    {\n",
    "        'name' : \"test2\", \n",
    "        'age' : 30\n",
    "    }, \n",
    "    {\n",
    "        'name' : 'test3', \n",
    "        'age' : 25\n",
    "    }, \n",
    "    {\n",
    "        'name' : 'test4', \n",
    "        'age' : 40\n",
    "    }\n",
    "]"
   ]
  },
  {
   "cell_type": "code",
   "execution_count": null,
   "metadata": {},
   "outputs": [],
   "source": [
    "print(type(test_data))"
   ]
  },
  {
   "cell_type": "code",
   "execution_count": null,
   "metadata": {},
   "outputs": [],
   "source": [
    "print(test_data[1])"
   ]
  },
  {
   "cell_type": "code",
   "execution_count": null,
   "metadata": {},
   "outputs": [],
   "source": [
    "print(type(test_data[1]))"
   ]
  },
  {
   "cell_type": "code",
   "execution_count": null,
   "metadata": {},
   "outputs": [],
   "source": [
    "print(test_data[1]['age'])"
   ]
  },
  {
   "cell_type": "code",
   "execution_count": null,
   "metadata": {},
   "outputs": [],
   "source": [
    "# test_data에 있는 age 값들을 모두 출력\n",
    "print(test_data[0]['age'])\n",
    "print(test_data[1]['age'])\n",
    "print(test_data[2]['age'])"
   ]
  },
  {
   "cell_type": "code",
   "execution_count": null,
   "metadata": {},
   "outputs": [],
   "source": [
    "for i in range(0, len(test_data), 1):\n",
    "    print(test_data[i]['age'])"
   ]
  },
  {
   "cell_type": "code",
   "execution_count": null,
   "metadata": {},
   "outputs": [],
   "source": [
    "for i in test_data:\n",
    "    print(i['age'])"
   ]
  },
  {
   "cell_type": "code",
   "execution_count": null,
   "metadata": {},
   "outputs": [],
   "source": [
    "_list = [5, 3, 8, 1]\n",
    "\n",
    "for i in _list:\n",
    "    print(i)\n",
    "\n",
    "for i in range(0, len(_list), 1):\n",
    "    print(_list[i])"
   ]
  },
  {
   "cell_type": "code",
   "execution_count": null,
   "metadata": {},
   "outputs": [],
   "source": [
    "print(list(range(1, 11, 1)))"
   ]
  },
  {
   "cell_type": "code",
   "execution_count": null,
   "metadata": {},
   "outputs": [],
   "source": [
    "# test_data에서 이름 부분만 리스트의 형태로 출력\n",
    "\n",
    "# 비어있는 리스트를 생성\n",
    "result = []\n",
    "\n",
    "for i in range(0, len(test_data), 1):\n",
    "    # print(test_data[i]['name'])\n",
    "    result.append(test_data[i]['name'])\n",
    "print(result)"
   ]
  },
  {
   "cell_type": "code",
   "execution_count": null,
   "metadata": {},
   "outputs": [],
   "source": [
    "# 1부터 100까지 중 3의 배수를 리스트 형태로 출력\n",
    "\n",
    "# case1 (for)\n",
    "result = []\n",
    "for i in range(3, 101, 3):\n",
    "    result.append(i)\n",
    "print(result)\n",
    "\n",
    "# case2 (for)\n",
    "result = []\n",
    "for i in range(1, 101, 1):\n",
    "    if (i % 3 == 0):\n",
    "        result.append(i)\n",
    "print(result)"
   ]
  },
  {
   "cell_type": "code",
   "execution_count": null,
   "metadata": {},
   "outputs": [],
   "source": [
    "print(list(range(3, 101, 3)))"
   ]
  },
  {
   "cell_type": "code",
   "execution_count": null,
   "metadata": {},
   "outputs": [],
   "source": [
    "# case3(while)\n",
    "result = []\n",
    "i = 1\n",
    "\n",
    "while i <= 100:\n",
    "    if (i % 3 == 0):\n",
    "        result.append(i)\n",
    "    i += 1\n",
    "print(result)"
   ]
  },
  {
   "attachments": {},
   "cell_type": "markdown",
   "metadata": {},
   "source": [
    "### 문제 \n",
    "> 2부터 50까지 숫자 중 소수를 리스트의 형태로 출력하시오\n",
    "\n",
    "1. 첫 번째 반복문에서는 2부터 50까지 반복을 하는 반복문 생성\n",
    "2. 소수의 의미는 1과 자기 자신 외에는 나누어지지 않는다. \n",
    "3. 반복문 안에 bool의 형태의 데이터를 만들어서 True 지정\n",
    "4. 두 번째 반복문을 이용하여 2부터 시작하여 (자기 자신(i) -1)까지 나누어 나머지 값이 0이면 3번 과정에서 만들어둔 변수가 False 변경\n",
    "5. 두 번째 반복문에서 나와서 bool형태의 변수를 조건으로 사용하여 True인 경우에는 리스트에 추가 "
   ]
  },
  {
   "cell_type": "code",
   "execution_count": 50,
   "metadata": {},
   "outputs": [
    {
     "name": "stdout",
     "output_type": "stream",
     "text": [
      "[2, 3, 5, 7, 11, 13, 17, 19, 23, 29, 31, 37, 41, 43, 47]\n"
     ]
    }
   ],
   "source": [
    "result = []\n",
    "\n",
    "# 1. 첫번째 반복문은 2부터 50까지 반복을 하는 반복문은 생성\n",
    "for i in range(2, 51, 1):\n",
    "    # 반복문 안에 bool 현태의 데이터를 하나 생성 (True)\n",
    "    a = True\n",
    "    # 4. 두 번째 반복문을 생성 2부터 시작해서 i-1까지 반복문 생성\n",
    "    for j in range(2, i, 1):\n",
    "        # i와 j를 나눈 나머지 값이 0이면 a = False\n",
    "        if (i % j == 0):\n",
    "            a = False\n",
    "    # 5. bool형태의 변수를 조건식으로 사용하여 조건문 생성 참이면 리스트에 추가 \n",
    "    if a:\n",
    "        result.append(i)\n",
    "\n",
    "print(result)\n"
   ]
  },
  {
   "cell_type": "code",
   "execution_count": 51,
   "metadata": {},
   "outputs": [
    {
     "name": "stdout",
     "output_type": "stream",
     "text": [
      "HELLO WORLD\n",
      "hello world\n"
     ]
    }
   ],
   "source": [
    "# 문자열 함수\n",
    "\n",
    "# 대문자 변경, 소문자 변경\n",
    "text = 'Hello World'\n",
    "\n",
    "print(text.upper())\n",
    "print(text.lower())"
   ]
  },
  {
   "cell_type": "code",
   "execution_count": 53,
   "metadata": {},
   "outputs": [
    {
     "data": {
      "text/plain": [
       "'  Hello World  '"
      ]
     },
     "execution_count": 53,
     "metadata": {},
     "output_type": "execute_result"
    }
   ],
   "source": [
    "text = \"  Hello World  \"\n",
    "text"
   ]
  },
  {
   "cell_type": "code",
   "execution_count": 54,
   "metadata": {},
   "outputs": [
    {
     "name": "stdout",
     "output_type": "stream",
     "text": [
      "Hello World  \n",
      "  Hello World\n",
      "Hello World\n"
     ]
    }
   ],
   "source": [
    "# 좌 우 공백을 제거하는 문자열 함수\n",
    "print(text.lstrip())\n",
    "print(text.rstrip())\n",
    "print(text.strip())"
   ]
  },
  {
   "cell_type": "code",
   "execution_count": 55,
   "metadata": {},
   "outputs": [
    {
     "name": "stdout",
     "output_type": "stream",
     "text": [
      "  Hi World  \n"
     ]
    }
   ],
   "source": [
    "# 선택한 문자열을 다른 문자열로 변경하는 함수\n",
    "# replace(선택한 문자열, 변경될 문자열)\n",
    "print(text.replace('Hello', 'Hi'))"
   ]
  },
  {
   "cell_type": "code",
   "execution_count": 56,
   "metadata": {},
   "outputs": [
    {
     "name": "stdout",
     "output_type": "stream",
     "text": [
      "HelloWorld\n"
     ]
    }
   ],
   "source": [
    "# replace를 이용하여 공백을 제거 \n",
    "print(text.replace(\" \", \"\"))"
   ]
  },
  {
   "cell_type": "code",
   "execution_count": 58,
   "metadata": {},
   "outputs": [
    {
     "name": "stdout",
     "output_type": "stream",
     "text": [
      "a,b,c,d,e\n",
      "['a', 'b', 'c', 'd', 'e']\n"
     ]
    }
   ],
   "source": [
    "# 기준이 되는 값으로 문자열을 나눠주는 함수\n",
    "a = 'a,b,c,d,e'\n",
    "print(a)\n",
    "print(a.split(','))"
   ]
  },
  {
   "cell_type": "code",
   "execution_count": 61,
   "metadata": {},
   "outputs": [
    {
     "name": "stdout",
     "output_type": "stream",
     "text": [
      "['a', 'b', 'c', 'd', 'e']\n"
     ]
    }
   ],
   "source": [
    "b= 'a-b-c-d-e'\n",
    "print(b.split('-'))"
   ]
  }
 ],
 "metadata": {
  "kernelspec": {
   "display_name": "Python 3",
   "language": "python",
   "name": "python3"
  },
  "language_info": {
   "codemirror_mode": {
    "name": "ipython",
    "version": 3
   },
   "file_extension": ".py",
   "mimetype": "text/x-python",
   "name": "python",
   "nbconvert_exporter": "python",
   "pygments_lexer": "ipython3",
   "version": "3.11.0"
  },
  "orig_nbformat": 4
 },
 "nbformat": 4,
 "nbformat_minor": 2
}
