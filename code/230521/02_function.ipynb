{
 "cells": [
  {
   "attachments": {},
   "cell_type": "markdown",
   "metadata": {},
   "source": [
    "# 함수\n",
    "1. 함수를 생성하는 방법은 def 키워드를 이용하여 생성\n",
    "2. 매개변수 0개부터 생성\n",
    "3. 일반적으로 매개변수와 인자의 개수를 같아야 한다. \n",
    "4. 매개변수에 기본 값을 지정하면 인자에 값을 넣지 않아도 함수 실행"
   ]
  },
  {
   "cell_type": "code",
   "execution_count": 1,
   "metadata": {},
   "outputs": [
    {
     "name": "stdout",
     "output_type": "stream",
     "text": [
      "Hello\n",
      "Hello\n"
     ]
    }
   ],
   "source": [
    "# 매개변수가 존재하지 않는 함수를 생성 \n",
    "def func_1():\n",
    "    return \"Hello\"\n",
    "\n",
    "print(func_1())\n",
    "print(func_1())"
   ]
  },
  {
   "cell_type": "code",
   "execution_count": 6,
   "metadata": {},
   "outputs": [
    {
     "name": "stdout",
     "output_type": "stream",
     "text": [
      "9\n",
      "13\n",
      "7\n"
     ]
    }
   ],
   "source": [
    "# 매개변수가 존재하는 함수를 생성\n",
    "def func_2(x, y):\n",
    "    result = x + y\n",
    "    return result\n",
    "\n",
    "print(func_2(5, 4))\n",
    "print(func_2(10,3))\n",
    "print(func_2(3, 4))"
   ]
  },
  {
   "cell_type": "code",
   "execution_count": 8,
   "metadata": {},
   "outputs": [
    {
     "name": "stdout",
     "output_type": "stream",
     "text": [
      "2\n",
      "2\n"
     ]
    }
   ],
   "source": [
    "# 매개변수에 기본값을 지정하는 함수를 생성\n",
    "def func_3(x, y = 1):\n",
    "    result = x - y \n",
    "    return result\n",
    "\n",
    "print(func_3(5, 3))\n",
    "print(func_3(3))"
   ]
  },
  {
   "cell_type": "code",
   "execution_count": 10,
   "metadata": {},
   "outputs": [
    {
     "name": "stdout",
     "output_type": "stream",
     "text": [
      "(1, 6, 8, 4, 6, 5)\n",
      "\n"
     ]
    }
   ],
   "source": [
    "# 인자의 개수가 가변인 경우 함수를 생성\n",
    "def func_4(*args):\n",
    "    print(args)\n",
    "    return \"\"\n",
    "\n",
    "print(func_4(1,6,8,4, 6, 5))"
   ]
  },
  {
   "cell_type": "code",
   "execution_count": 15,
   "metadata": {},
   "outputs": [],
   "source": [
    "# 인자의 개수가 가변일때 인자 값들의 합을 돌려주는 함수 생성\n",
    "def func_5(*args):\n",
    "    # args의 데이터의 형태는 튜플\n",
    "    # 각 원소들의 데이터를 추출하여 합을 한 후 리턴\n",
    "    result = 0\n",
    "\n",
    "    # for i in args:\n",
    "    #     # result = result + i\n",
    "    #     result += i\n",
    "    print(args)\n",
    "    print(len(args))\n",
    "    print(args[1])\n",
    "    for i in range(0, len(args), 1):\n",
    "        result += args[i]\n",
    "\n",
    "    return result\n"
   ]
  },
  {
   "cell_type": "code",
   "execution_count": 16,
   "metadata": {},
   "outputs": [
    {
     "name": "stdout",
     "output_type": "stream",
     "text": [
      "(1, 2, 3, 4, 5)\n",
      "5\n",
      "2\n",
      "15\n"
     ]
    }
   ],
   "source": [
    "print(func_5(1,2,3,4,5))"
   ]
  },
  {
   "cell_type": "code",
   "execution_count": 17,
   "metadata": {},
   "outputs": [
    {
     "name": "stdout",
     "output_type": "stream",
     "text": [
      "(1, 3, 5, 7, 9)\n",
      "5\n",
      "3\n",
      "25\n"
     ]
    }
   ],
   "source": [
    "print(func_5(1, 3, 5, 7, 9))"
   ]
  },
  {
   "cell_type": "code",
   "execution_count": 24,
   "metadata": {},
   "outputs": [],
   "source": [
    "# _x가 'sum'이면 _list 합계를 리턴\n",
    "# _x가 'mul'이면 _list의 누적곱을 리턴\n",
    "\n",
    "def func_6(_x, *_list):\n",
    "    # 합계를 구하려면\n",
    "    if (_x == 'sum'):\n",
    "        result = 0\n",
    "        for i in _list:\n",
    "            result += i\n",
    "        return result\n",
    "    # 누적곱 구하려면\n",
    "    elif(_x == 'mul'):\n",
    "        result = 1\n",
    "        for i in _list:\n",
    "            result *= i\n",
    "        return result"
   ]
  },
  {
   "cell_type": "code",
   "execution_count": 25,
   "metadata": {},
   "outputs": [
    {
     "name": "stdout",
     "output_type": "stream",
     "text": [
      "27\n",
      "1440\n"
     ]
    }
   ],
   "source": [
    "print(func_6('sum',3,6,8,10))\n",
    "print(func_6('mul',3,6,8,10))"
   ]
  },
  {
   "cell_type": "code",
   "execution_count": 27,
   "metadata": {},
   "outputs": [
    {
     "data": {
      "text/plain": [
       "10"
      ]
     },
     "execution_count": 27,
     "metadata": {},
     "output_type": "execute_result"
    }
   ],
   "source": [
    "max(1,10,3,4,5)"
   ]
  },
  {
   "cell_type": "code",
   "execution_count": null,
   "metadata": {},
   "outputs": [],
   "source": [
    "# 파이썬의 내장함수 max()를 만들어보자\n",
    "# 인자는 가변\n",
    "# 해당하는 원소들 중에서 가장 높은 숫자를 출력\n",
    "# 첫번째 값과 두번째 값을 비교하여 큰 값을 두고 \n",
    "# 세번째 값과 비교하여 큰 값을 다시 두고\n",
    "# ......... 큰 값을 리턴"
   ]
  },
  {
   "cell_type": "code",
   "execution_count": 1,
   "metadata": {},
   "outputs": [
    {
     "data": {
      "text/plain": [
       "8"
      ]
     },
     "execution_count": 1,
     "metadata": {},
     "output_type": "execute_result"
    }
   ],
   "source": [
    "max(1,5,7,2,8)"
   ]
  },
  {
   "cell_type": "code",
   "execution_count": 9,
   "metadata": {},
   "outputs": [],
   "source": [
    "a = (1,5,4,3,2)"
   ]
  },
  {
   "cell_type": "code",
   "execution_count": 11,
   "metadata": {},
   "outputs": [
    {
     "name": "stdout",
     "output_type": "stream",
     "text": [
      "(5, 4, 3, 2)\n",
      "5\n",
      "4\n",
      "3\n",
      "2\n"
     ]
    }
   ],
   "source": [
    "# a변수에서 2번째 값부터 마지막의 값까지 출력\n",
    "print(a[1:])\n",
    "# for문을 이용하여 2번째 값부터 마지막까지 하나씩 출력\n",
    "for i in range(1, 5, 1):\n",
    "    print(a[i])"
   ]
  },
  {
   "cell_type": "code",
   "execution_count": 28,
   "metadata": {},
   "outputs": [],
   "source": [
    "def func_1(*args):\n",
    "    # 인자들 중 첫번째 인자 값을 변수에 대입\n",
    "    result = args[0]\n",
    "    # 첫번째 인자 값과 크기를 비교하여 큰 수를 result에 대입\n",
    "    for i in range(1, len(args), 1):\n",
    "        if result < args[i]:\n",
    "            result = args[i]\n",
    "            # print(args[i])\n",
    "        # print(result)\n",
    "\n",
    "            \n",
    "    return result"
   ]
  },
  {
   "cell_type": "code",
   "execution_count": 29,
   "metadata": {},
   "outputs": [
    {
     "name": "stdout",
     "output_type": "stream",
     "text": [
      "8\n"
     ]
    }
   ],
   "source": [
    "print(func_1(6,1,5,4,2,7,8,1))"
   ]
  },
  {
   "cell_type": "code",
   "execution_count": null,
   "metadata": {},
   "outputs": [],
   "source": []
  }
 ],
 "metadata": {
  "kernelspec": {
   "display_name": "Python 3",
   "language": "python",
   "name": "python3"
  },
  "language_info": {
   "codemirror_mode": {
    "name": "ipython",
    "version": 3
   },
   "file_extension": ".py",
   "mimetype": "text/x-python",
   "name": "python",
   "nbconvert_exporter": "python",
   "pygments_lexer": "ipython3",
   "version": "3.11.0"
  },
  "orig_nbformat": 4
 },
 "nbformat": 4,
 "nbformat_minor": 2
}
