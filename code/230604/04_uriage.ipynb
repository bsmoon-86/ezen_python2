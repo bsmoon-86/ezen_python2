{
 "cells": [
  {
   "cell_type": "code",
   "execution_count": null,
   "metadata": {},
   "outputs": [],
   "source": [
    "import pandas as pd"
   ]
  },
  {
   "cell_type": "code",
   "execution_count": null,
   "metadata": {},
   "outputs": [],
   "source": [
    "# 파일 로드 \n",
    "uriage = pd.read_csv(\"../csv/uriage.csv\")\n",
    "uriage.head(10)"
   ]
  },
  {
   "cell_type": "code",
   "execution_count": null,
   "metadata": {},
   "outputs": [],
   "source": [
    "# 결측치 확인 \n",
    "uriage.info()"
   ]
  },
  {
   "cell_type": "code",
   "execution_count": null,
   "metadata": {},
   "outputs": [],
   "source": [
    "uriage.isna().sum()"
   ]
  },
  {
   "attachments": {},
   "cell_type": "markdown",
   "metadata": {},
   "source": [
    "1. item_name의 데이터를 모두 대문자로 변경\n",
    "2. item_name의 데이터에서 공백을 모두 삭제\n",
    "3. item_name을 기준으로 오름차순 정렬\n",
    "4. 인덱스 초기화(기존의 인덱스 삭제)\n",
    "5. item_price 결측치를 대체"
   ]
  },
  {
   "cell_type": "code",
   "execution_count": null,
   "metadata": {},
   "outputs": [],
   "source": [
    "# 문자열을 모두 대문자로 변경하는 문자열 내부 함수\n",
    "# upper()\n",
    "a = 'Hello'\n",
    "a.upper()"
   ]
  },
  {
   "cell_type": "code",
   "execution_count": 74,
   "metadata": {},
   "outputs": [
    {
     "data": {
      "text/plain": [
       "0       상품A\n",
       "1       상품A\n",
       "2       상품A\n",
       "3       상품A\n",
       "4       상품A\n",
       "       ... \n",
       "2994    상품Y\n",
       "2995    상품Y\n",
       "2996    상품Y\n",
       "2997    상품Y\n",
       "2998    상품Z\n",
       "Name: item_name, Length: 2999, dtype: object"
      ]
     },
     "execution_count": 74,
     "metadata": {},
     "output_type": "execute_result"
    }
   ],
   "source": [
    "# item_name 컬럼의 데이터를 대문자로 변경\n",
    "\n",
    "# case1\n",
    "uriage['item_name'].str.upper()\n"
   ]
  },
  {
   "cell_type": "code",
   "execution_count": null,
   "metadata": {},
   "outputs": [],
   "source": [
    "# case2\n",
    "# apply(일반 함수) : 스리즈 형태의 데이터를 항목 하나하나 씩 함수에 대입하여 출력 값을 스리즈의 형태로 변경하여 출력\n",
    "\n",
    "# 일반 함수 생성\n",
    "def change(x):\n",
    "    result = x.upper()\n",
    "    return result\n",
    "uriage['item_name'].apply(change)"
   ]
  },
  {
   "cell_type": "code",
   "execution_count": null,
   "metadata": {},
   "outputs": [],
   "source": [
    "def func_1(x):\n",
    "    result = x.upper()\n",
    "    return result\n",
    "\n",
    "print(func_1('Hello'))"
   ]
  },
  {
   "cell_type": "code",
   "execution_count": null,
   "metadata": {},
   "outputs": [],
   "source": [
    "# case3\n",
    "# apply(lambda함수)\n",
    "# lambda 함수 : 함수를 생성과 동시에 호출\n",
    "\n",
    "uriage['item_name'] = uriage['item_name'].apply(lambda x : x.upper())"
   ]
  },
  {
   "cell_type": "code",
   "execution_count": null,
   "metadata": {},
   "outputs": [],
   "source": [
    "uriage.head(5)"
   ]
  },
  {
   "cell_type": "code",
   "execution_count": null,
   "metadata": {},
   "outputs": [],
   "source": [
    "# 공백 제거 \n",
    "# 문자열 사이의 공백도 삭제\n",
    "# 좌우 공백을 삭제하는 함수 -> strip()\n",
    "# 문자열 사이 공백을 삭제하는 방법 -> replace(\" \", \"\")\n",
    "\n",
    "# case1\n",
    "uriage['item_name'].str.replace(\" \", \"\")"
   ]
  },
  {
   "cell_type": "code",
   "execution_count": null,
   "metadata": {},
   "outputs": [],
   "source": [
    "# case2 \n",
    "# apply(일반함수)\n",
    "def change(y):\n",
    "    result = y.replace(\" \", \"\")\n",
    "    return result\n",
    "\n",
    "uriage['item_name'].apply(change)"
   ]
  },
  {
   "cell_type": "code",
   "execution_count": null,
   "metadata": {},
   "outputs": [],
   "source": [
    "# case3\n",
    "# apply(lambda함수)\n",
    "uriage['item_name'].apply(lambda z : z.replace(' ', ''))"
   ]
  },
  {
   "cell_type": "code",
   "execution_count": null,
   "metadata": {},
   "outputs": [],
   "source": [
    "# 대문자로 변경, 공백 제거 \n",
    "\n",
    "# case1\n",
    "uriage['item_name'].str.upper().str.replace(\" \", \"\")"
   ]
  },
  {
   "cell_type": "code",
   "execution_count": null,
   "metadata": {},
   "outputs": [],
   "source": [
    "# case2\n",
    "def change(x):\n",
    "    # result = x.upper().replace(\" \", \"\")\n",
    "    result = x.upper()\n",
    "    result = result.replace(\" \", \"\")\n",
    "    return result\n",
    "\n",
    "uriage['item_name'].apply(change)"
   ]
  },
  {
   "cell_type": "code",
   "execution_count": null,
   "metadata": {},
   "outputs": [],
   "source": [
    "# case3 \n",
    "uriage['item_name'] =  uriage['item_name'].apply(lambda x : x.upper().replace(\" \", \"\"))"
   ]
  },
  {
   "cell_type": "code",
   "execution_count": null,
   "metadata": {},
   "outputs": [],
   "source": [
    "uriage.head()"
   ]
  },
  {
   "cell_type": "code",
   "execution_count": null,
   "metadata": {},
   "outputs": [],
   "source": [
    "# item_name 기준으로 오름차순 정렬\n",
    "uriage.sort_values('item_name', inplace=True)\n",
    "# 인덱스를 초기화 (기존의 인덱스는 삭제)\n",
    "uriage.reset_index(drop=True, inplace=True)"
   ]
  },
  {
   "cell_type": "code",
   "execution_count": null,
   "metadata": {},
   "outputs": [],
   "source": [
    "uriage.head()"
   ]
  },
  {
   "attachments": {},
   "cell_type": "markdown",
   "metadata": {},
   "source": [
    "## 결측치에 데이터를 치환\n",
    "1. 상품명에 따라 결측치를 각각 해당하는 상품의 평균값으로 대체\n",
    "2. 상품A라면 상품A의 item_price의 평균값을 결측치에 대체"
   ]
  },
  {
   "attachments": {},
   "cell_type": "markdown",
   "metadata": {},
   "source": [
    "## loc[]\n",
    "- 특정한 행이나 열을 추출 할때 사용\n",
    "- loc[행의 조건식, 열의 조건식]\n",
    "- 행의조건만 적게되면 열은 모두 포함\n",
    "- 열의 조건만 사용하려면? loc[:, 열의 조건]\n",
    "- loc[0:5] -> 인덱스가 0,1,2,3,4,5인 경우에 행을 출력\n",
    "- loc[[1,6,9]] -> 인덱스가 1,6,9인 경우\n",
    "- loc[[1,6,9], ['item_name', 'item_price']] -> 인덱스가 1,6,9이고 컬럼이 item_name과 item_price인 경우"
   ]
  },
  {
   "cell_type": "code",
   "execution_count": 79,
   "metadata": {},
   "outputs": [],
   "source": [
    "uriage3 = uriage2.loc[[20, 500, 800, 1100]]"
   ]
  },
  {
   "cell_type": "code",
   "execution_count": 83,
   "metadata": {},
   "outputs": [
    {
     "data": {
      "text/html": [
       "<div>\n",
       "<style scoped>\n",
       "    .dataframe tbody tr th:only-of-type {\n",
       "        vertical-align: middle;\n",
       "    }\n",
       "\n",
       "    .dataframe tbody tr th {\n",
       "        vertical-align: top;\n",
       "    }\n",
       "\n",
       "    .dataframe thead th {\n",
       "        text-align: right;\n",
       "    }\n",
       "</style>\n",
       "<table border=\"1\" class=\"dataframe\">\n",
       "  <thead>\n",
       "    <tr style=\"text-align: right;\">\n",
       "      <th></th>\n",
       "      <th>purchase_date</th>\n",
       "      <th>item_price</th>\n",
       "      <th>customer_name</th>\n",
       "    </tr>\n",
       "    <tr>\n",
       "      <th>item_name</th>\n",
       "      <th></th>\n",
       "      <th></th>\n",
       "      <th></th>\n",
       "    </tr>\n",
       "  </thead>\n",
       "  <tbody>\n",
       "    <tr>\n",
       "      <th>상품A</th>\n",
       "      <td>2019-07-07 21:49</td>\n",
       "      <td>NaN</td>\n",
       "      <td>김은우</td>\n",
       "    </tr>\n",
       "    <tr>\n",
       "      <th>상품D</th>\n",
       "      <td>2019-07-27 21:50</td>\n",
       "      <td>400.0</td>\n",
       "      <td>김지오</td>\n",
       "    </tr>\n",
       "    <tr>\n",
       "      <th>상품G</th>\n",
       "      <td>2019-04-30 15:25</td>\n",
       "      <td>700.0</td>\n",
       "      <td>김유준</td>\n",
       "    </tr>\n",
       "    <tr>\n",
       "      <th>상품J</th>\n",
       "      <td>2019-01-18 4:19</td>\n",
       "      <td>1000.0</td>\n",
       "      <td>김경민</td>\n",
       "    </tr>\n",
       "  </tbody>\n",
       "</table>\n",
       "</div>"
      ],
      "text/plain": [
       "              purchase_date  item_price customer_name\n",
       "item_name                                            \n",
       "상품A        2019-07-07 21:49         NaN           김은우\n",
       "상품D        2019-07-27 21:50       400.0           김지오\n",
       "상품G        2019-04-30 15:25       700.0           김유준\n",
       "상품J         2019-01-18 4:19      1000.0           김경민"
      ]
     },
     "execution_count": 83,
     "metadata": {},
     "output_type": "execute_result"
    }
   ],
   "source": [
    "uriage3.set_index('item_name', inplace=True)\n",
    "uriage3"
   ]
  },
  {
   "cell_type": "code",
   "execution_count": 91,
   "metadata": {},
   "outputs": [
    {
     "data": {
      "text/html": [
       "<div>\n",
       "<style scoped>\n",
       "    .dataframe tbody tr th:only-of-type {\n",
       "        vertical-align: middle;\n",
       "    }\n",
       "\n",
       "    .dataframe tbody tr th {\n",
       "        vertical-align: top;\n",
       "    }\n",
       "\n",
       "    .dataframe thead th {\n",
       "        text-align: right;\n",
       "    }\n",
       "</style>\n",
       "<table border=\"1\" class=\"dataframe\">\n",
       "  <thead>\n",
       "    <tr style=\"text-align: right;\">\n",
       "      <th></th>\n",
       "      <th>purchase_date</th>\n",
       "      <th>item_price</th>\n",
       "      <th>customer_name</th>\n",
       "    </tr>\n",
       "    <tr>\n",
       "      <th>item_name</th>\n",
       "      <th></th>\n",
       "      <th></th>\n",
       "      <th></th>\n",
       "    </tr>\n",
       "  </thead>\n",
       "  <tbody>\n",
       "    <tr>\n",
       "      <th>상품D</th>\n",
       "      <td>2019-07-27 21:50</td>\n",
       "      <td>400.0</td>\n",
       "      <td>김지오</td>\n",
       "    </tr>\n",
       "  </tbody>\n",
       "</table>\n",
       "</div>"
      ],
      "text/plain": [
       "              purchase_date  item_price customer_name\n",
       "item_name                                            \n",
       "상품D        2019-07-27 21:50       400.0           김지오"
      ]
     },
     "execution_count": 91,
     "metadata": {},
     "output_type": "execute_result"
    }
   ],
   "source": [
    "uriage3.loc[uriage3['item_price'] == 400]"
   ]
  },
  {
   "cell_type": "code",
   "execution_count": 93,
   "metadata": {},
   "outputs": [
    {
     "data": {
      "text/html": [
       "<div>\n",
       "<style scoped>\n",
       "    .dataframe tbody tr th:only-of-type {\n",
       "        vertical-align: middle;\n",
       "    }\n",
       "\n",
       "    .dataframe tbody tr th {\n",
       "        vertical-align: top;\n",
       "    }\n",
       "\n",
       "    .dataframe thead th {\n",
       "        text-align: right;\n",
       "    }\n",
       "</style>\n",
       "<table border=\"1\" class=\"dataframe\">\n",
       "  <thead>\n",
       "    <tr style=\"text-align: right;\">\n",
       "      <th></th>\n",
       "      <th>purchase_date</th>\n",
       "      <th>item_price</th>\n",
       "      <th>customer_name</th>\n",
       "    </tr>\n",
       "    <tr>\n",
       "      <th>item_name</th>\n",
       "      <th></th>\n",
       "      <th></th>\n",
       "      <th></th>\n",
       "    </tr>\n",
       "  </thead>\n",
       "  <tbody>\n",
       "    <tr>\n",
       "      <th>상품G</th>\n",
       "      <td>2019-04-30 15:25</td>\n",
       "      <td>700.0</td>\n",
       "      <td>김유준</td>\n",
       "    </tr>\n",
       "    <tr>\n",
       "      <th>상품J</th>\n",
       "      <td>2019-01-18 4:19</td>\n",
       "      <td>1000.0</td>\n",
       "      <td>김경민</td>\n",
       "    </tr>\n",
       "  </tbody>\n",
       "</table>\n",
       "</div>"
      ],
      "text/plain": [
       "              purchase_date  item_price customer_name\n",
       "item_name                                            \n",
       "상품G        2019-04-30 15:25       700.0           김유준\n",
       "상품J         2019-01-18 4:19      1000.0           김경민"
      ]
     },
     "execution_count": 93,
     "metadata": {},
     "output_type": "execute_result"
    }
   ],
   "source": [
    "uriage3.loc[uriage3['item_price'] > 400]"
   ]
  },
  {
   "cell_type": "code",
   "execution_count": 89,
   "metadata": {},
   "outputs": [
    {
     "data": {
      "text/html": [
       "<div>\n",
       "<style scoped>\n",
       "    .dataframe tbody tr th:only-of-type {\n",
       "        vertical-align: middle;\n",
       "    }\n",
       "\n",
       "    .dataframe tbody tr th {\n",
       "        vertical-align: top;\n",
       "    }\n",
       "\n",
       "    .dataframe thead th {\n",
       "        text-align: right;\n",
       "    }\n",
       "</style>\n",
       "<table border=\"1\" class=\"dataframe\">\n",
       "  <thead>\n",
       "    <tr style=\"text-align: right;\">\n",
       "      <th></th>\n",
       "      <th>purchase_date</th>\n",
       "      <th>item_price</th>\n",
       "      <th>customer_name</th>\n",
       "    </tr>\n",
       "    <tr>\n",
       "      <th>item_name</th>\n",
       "      <th></th>\n",
       "      <th></th>\n",
       "      <th></th>\n",
       "    </tr>\n",
       "  </thead>\n",
       "  <tbody>\n",
       "    <tr>\n",
       "      <th>상품D</th>\n",
       "      <td>2019-07-27 21:50</td>\n",
       "      <td>400.0</td>\n",
       "      <td>김지오</td>\n",
       "    </tr>\n",
       "  </tbody>\n",
       "</table>\n",
       "</div>"
      ],
      "text/plain": [
       "              purchase_date  item_price customer_name\n",
       "item_name                                            \n",
       "상품D        2019-07-27 21:50       400.0           김지오"
      ]
     },
     "execution_count": 89,
     "metadata": {},
     "output_type": "execute_result"
    }
   ],
   "source": [
    "uriage3.iloc[[1]]"
   ]
  },
  {
   "cell_type": "code",
   "execution_count": null,
   "metadata": {},
   "outputs": [],
   "source": [
    "# 상품A인 데이터만 출력\n",
    "# uriage.loc[[4,7,9,22]]\n",
    "uriage.loc[uriage['item_name'] == \"상품A\"]"
   ]
  },
  {
   "cell_type": "code",
   "execution_count": null,
   "metadata": {},
   "outputs": [],
   "source": [
    "fig = uriage['item_name'] == \"상품A\""
   ]
  },
  {
   "cell_type": "code",
   "execution_count": null,
   "metadata": {},
   "outputs": [],
   "source": [
    "fig"
   ]
  },
  {
   "cell_type": "code",
   "execution_count": null,
   "metadata": {},
   "outputs": [],
   "source": [
    "# 상품명이 상품A인 경우의 item_price가 결측치 유무\n",
    "fig2 = uriage.loc[fig, 'item_price'].isna()"
   ]
  },
  {
   "cell_type": "code",
   "execution_count": null,
   "metadata": {},
   "outputs": [],
   "source": [
    "# 상품A인 경우 결측치의 값만 출력\n",
    "uriage.loc[fig].loc[fig2]"
   ]
  },
  {
   "cell_type": "code",
   "execution_count": null,
   "metadata": {},
   "outputs": [],
   "source": [
    "uriage.loc[fig & fig2]"
   ]
  },
  {
   "cell_type": "code",
   "execution_count": null,
   "metadata": {},
   "outputs": [],
   "source": [
    "# 결측치가 아닌 값들을 출력\n",
    "# ~ 연산자는 False를 True로 True를 False로 변경\n",
    "uriage.loc[fig & ~fig2]"
   ]
  },
  {
   "cell_type": "code",
   "execution_count": null,
   "metadata": {},
   "outputs": [],
   "source": [
    "# 상품A인 경우와 결측치를 제외한 item_price의 평균 값\n",
    "a_price = uriage.loc[fig & ~fig2, 'item_price'].mean()"
   ]
  },
  {
   "cell_type": "code",
   "execution_count": null,
   "metadata": {},
   "outputs": [],
   "source": [
    "# 상품A인 경우 item_price의 결측치 부분에 a_price로 대체\n",
    "uriage[fig & fig2].fillna(a_price)"
   ]
  },
  {
   "cell_type": "code",
   "execution_count": null,
   "metadata": {},
   "outputs": [],
   "source": [
    "item_list = uriage['item_name'].unique()"
   ]
  },
  {
   "cell_type": "code",
   "execution_count": null,
   "metadata": {},
   "outputs": [],
   "source": [
    "# item_list를 기준으로 반복문 실행\n",
    "for name in item_list:\n",
    "    print(name)"
   ]
  },
  {
   "cell_type": "code",
   "execution_count": null,
   "metadata": {},
   "outputs": [],
   "source": [
    "uriage2 = uriage.copy()"
   ]
  },
  {
   "cell_type": "code",
   "execution_count": null,
   "metadata": {},
   "outputs": [],
   "source": [
    "for name in item_list:\n",
    "    # loc에 들어갈 조건식 \n",
    "    fig = uriage['item_name'] == name\n",
    "    fig2 = uriage['item_price'].isna()\n",
    "\n",
    "    # fig와 ~fig2의 조건식이 모두 참일때 item_price 평균값\n",
    "    mean_price = uriage.loc[fig & ~fig2, 'item_price'].mean()\n",
    "    # print(mean_price)\n",
    "    # fig와 fig2 조건식이 모두 참인 경우 item_price에 mean_price값으로 대체\n",
    "    uriage.loc[fig & fig2, 'item_price'] = mean_price\n",
    "uriage.head()"
   ]
  },
  {
   "cell_type": "code",
   "execution_count": 72,
   "metadata": {},
   "outputs": [
    {
     "data": {
      "text/plain": [
       "purchase_date    0\n",
       "item_name        0\n",
       "item_price       0\n",
       "customer_name    0\n",
       "dtype: int64"
      ]
     },
     "execution_count": 72,
     "metadata": {},
     "output_type": "execute_result"
    }
   ],
   "source": [
    "uriage.isna().sum()"
   ]
  },
  {
   "cell_type": "code",
   "execution_count": null,
   "metadata": {},
   "outputs": [],
   "source": [
    "data = [{'name' : 'test', 'age' : 10}, \n",
    "        {'name' : 'test2', 'age':20}]\n",
    "df = pd.DataFrame(data)\n",
    "df"
   ]
  },
  {
   "cell_type": "code",
   "execution_count": null,
   "metadata": {},
   "outputs": [],
   "source": [
    "df['age'] = 30"
   ]
  },
  {
   "cell_type": "code",
   "execution_count": null,
   "metadata": {},
   "outputs": [],
   "source": [
    "df['age']"
   ]
  },
  {
   "cell_type": "code",
   "execution_count": null,
   "metadata": {},
   "outputs": [],
   "source": []
  }
 ],
 "metadata": {
  "kernelspec": {
   "display_name": "Python 3",
   "language": "python",
   "name": "python3"
  },
  "language_info": {
   "codemirror_mode": {
    "name": "ipython",
    "version": 3
   },
   "file_extension": ".py",
   "mimetype": "text/x-python",
   "name": "python",
   "nbconvert_exporter": "python",
   "pygments_lexer": "ipython3",
   "version": "3.11.0"
  },
  "orig_nbformat": 4
 },
 "nbformat": 4,
 "nbformat_minor": 2
}
