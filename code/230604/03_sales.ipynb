{
 "cells": [
  {
   "attachments": {},
   "cell_type": "markdown",
   "metadata": {},
   "source": [
    "1. csv 폴더 안에 있는 Sales Records.csv 로드 \n",
    "2. 'Order ID', 'Total Revenue', 'Total Cost', 'Total Profit' 컬럼을 삭제\n",
    "3. 컬럼의 이름을 변경 : ['대륙', '국가', '타입', '채널', '우선순위', '주문일자', '발송일자', '판매단위', '단가', '원가']\n",
    "4. 대륙, 국가를 기준으로 오름차순 정렬\n",
    "5. 인덱스를 초기화(기존의 인덱스는 삭제) "
   ]
  },
  {
   "cell_type": "code",
   "execution_count": null,
   "metadata": {},
   "outputs": [],
   "source": [
    "import pandas as pd"
   ]
  },
  {
   "cell_type": "code",
   "execution_count": null,
   "metadata": {},
   "outputs": [],
   "source": [
    "sales = pd.read_csv('../csv/Sales Records.csv')\n",
    "sales.head(1)"
   ]
  },
  {
   "cell_type": "code",
   "execution_count": null,
   "metadata": {},
   "outputs": [],
   "source": [
    "# 특정 컬럼을 삭제 \n",
    "# drop()\n",
    "# axis는 행을 삭제가 할것인가? 아니면 열을 삭제할 것인가? 를 지정 \n",
    "# 0 : 행을 삭제 ,  1: 열을 삭제\n",
    "# rows : 행을 삭제, columns : 열을 삭제\n",
    "sales.drop(['Order ID', 'Total Revenue', 'Total Cost', 'Total Profit'], axis='columns', inplace=True)"
   ]
  },
  {
   "cell_type": "code",
   "execution_count": null,
   "metadata": {},
   "outputs": [],
   "source": [
    "# 컬럼들의 이름을 변경\n",
    "sales.columns = ['대륙', '국가', '타입', '채널', '우선순위', '주문일자', \n",
    "                 '발송일자', '판매단위', '단가', '원가']"
   ]
  },
  {
   "cell_type": "code",
   "execution_count": null,
   "metadata": {},
   "outputs": [],
   "source": [
    "sales.head(1)"
   ]
  },
  {
   "cell_type": "code",
   "execution_count": null,
   "metadata": {},
   "outputs": [],
   "source": [
    "# 정렬 변경 대륙, 국가 기준으로 오름차순\n",
    "sales.sort_values(['대륙', '국가'], ascending=True, inplace=True)"
   ]
  },
  {
   "cell_type": "code",
   "execution_count": null,
   "metadata": {},
   "outputs": [],
   "source": [
    "# 인덱스 초기화, 기존의 인덱스는 삭제\n",
    "\n",
    "# case1\n",
    "sales.reset_index(drop=True)\n",
    "\n",
    "# case2\n",
    "sales = sales.reset_index().drop(['index'], axis=1)"
   ]
  },
  {
   "cell_type": "code",
   "execution_count": null,
   "metadata": {},
   "outputs": [],
   "source": [
    "sales.head()"
   ]
  },
  {
   "cell_type": "code",
   "execution_count": null,
   "metadata": {},
   "outputs": [],
   "source": [
    "# 총 단가, 총 원가, 총 이윤 컬럼을 생성 \n",
    "# 총 단가 = 판매단위 * 단가\n",
    "# 총 원가 = 판매단위 * 원가\n",
    "# 총 이윤 = 총 단가 - 총 원가\n",
    "sales['총 단가'] = sales['판매단위'] * sales['단가']\n",
    "sales.head()"
   ]
  },
  {
   "cell_type": "code",
   "execution_count": 21,
   "metadata": {},
   "outputs": [
    {
     "data": {
      "text/html": [
       "<div>\n",
       "<style scoped>\n",
       "    .dataframe tbody tr th:only-of-type {\n",
       "        vertical-align: middle;\n",
       "    }\n",
       "\n",
       "    .dataframe tbody tr th {\n",
       "        vertical-align: top;\n",
       "    }\n",
       "\n",
       "    .dataframe thead th {\n",
       "        text-align: right;\n",
       "    }\n",
       "</style>\n",
       "<table border=\"1\" class=\"dataframe\">\n",
       "  <thead>\n",
       "    <tr style=\"text-align: right;\">\n",
       "      <th></th>\n",
       "      <th>대륙</th>\n",
       "      <th>국가</th>\n",
       "      <th>타입</th>\n",
       "      <th>채널</th>\n",
       "      <th>우선순위</th>\n",
       "      <th>주문일자</th>\n",
       "      <th>발송일자</th>\n",
       "      <th>판매단위</th>\n",
       "      <th>단가</th>\n",
       "      <th>원가</th>\n",
       "      <th>총 단가</th>\n",
       "      <th>총 원가</th>\n",
       "      <th>총 이윤</th>\n",
       "    </tr>\n",
       "  </thead>\n",
       "  <tbody>\n",
       "    <tr>\n",
       "      <th>0</th>\n",
       "      <td>Asia</td>\n",
       "      <td>Bangladesh</td>\n",
       "      <td>Personal Care</td>\n",
       "      <td>Online</td>\n",
       "      <td>L</td>\n",
       "      <td>12/11/2016</td>\n",
       "      <td>1/13/2017</td>\n",
       "      <td>9420</td>\n",
       "      <td>81.73</td>\n",
       "      <td>56.67</td>\n",
       "      <td>769896.6</td>\n",
       "      <td>533831.40</td>\n",
       "      <td>236065.20</td>\n",
       "    </tr>\n",
       "    <tr>\n",
       "      <th>1</th>\n",
       "      <td>Asia</td>\n",
       "      <td>Bangladesh</td>\n",
       "      <td>Cosmetics</td>\n",
       "      <td>Offline</td>\n",
       "      <td>M</td>\n",
       "      <td>7/29/2010</td>\n",
       "      <td>9/11/2010</td>\n",
       "      <td>577</td>\n",
       "      <td>437.20</td>\n",
       "      <td>263.33</td>\n",
       "      <td>252264.4</td>\n",
       "      <td>151941.41</td>\n",
       "      <td>100322.99</td>\n",
       "    </tr>\n",
       "  </tbody>\n",
       "</table>\n",
       "</div>"
      ],
      "text/plain": [
       "     대륙          국가             타입       채널 우선순위        주문일자       발송일자  판매단위   \n",
       "0  Asia  Bangladesh  Personal Care   Online    L  12/11/2016  1/13/2017  9420  \\\n",
       "1  Asia  Bangladesh      Cosmetics  Offline    M   7/29/2010  9/11/2010   577   \n",
       "\n",
       "       단가      원가      총 단가       총 원가       총 이윤  \n",
       "0   81.73   56.67  769896.6  533831.40  236065.20  \n",
       "1  437.20  263.33  252264.4  151941.41  100322.99  "
      ]
     },
     "execution_count": 21,
     "metadata": {},
     "output_type": "execute_result"
    }
   ],
   "source": [
    "sales['총 원가'] = sales['판매단위'] * sales['원가']\n",
    "sales['총 이윤'] = sales['총 단가'] - sales['총 원가']\n",
    "sales.head(2)"
   ]
  },
  {
   "cell_type": "code",
   "execution_count": 26,
   "metadata": {},
   "outputs": [],
   "source": [
    "# 그룹화\n",
    "# groupby(그룹화 기준이되는 컬럼명)\n",
    "group_data = sales.groupby('국가').sum()[['총 이윤']]"
   ]
  },
  {
   "cell_type": "code",
   "execution_count": null,
   "metadata": {},
   "outputs": [],
   "source": [
    "# 총 이윤이 높은 나라 top10\n",
    "group_data.sort_values(['총 이윤'], ascending=False).head(10)"
   ]
  },
  {
   "cell_type": "code",
   "execution_count": 30,
   "metadata": {},
   "outputs": [
    {
     "data": {
      "text/html": [
       "<div>\n",
       "<style scoped>\n",
       "    .dataframe tbody tr th:only-of-type {\n",
       "        vertical-align: middle;\n",
       "    }\n",
       "\n",
       "    .dataframe tbody tr th {\n",
       "        vertical-align: top;\n",
       "    }\n",
       "\n",
       "    .dataframe thead th {\n",
       "        text-align: right;\n",
       "    }\n",
       "</style>\n",
       "<table border=\"1\" class=\"dataframe\">\n",
       "  <thead>\n",
       "    <tr style=\"text-align: right;\">\n",
       "      <th></th>\n",
       "      <th>총 이윤</th>\n",
       "    </tr>\n",
       "    <tr>\n",
       "      <th>국가</th>\n",
       "      <th></th>\n",
       "    </tr>\n",
       "  </thead>\n",
       "  <tbody>\n",
       "    <tr>\n",
       "      <th>Tajikistan</th>\n",
       "      <td>13662027.26</td>\n",
       "    </tr>\n",
       "    <tr>\n",
       "      <th>Mali</th>\n",
       "      <td>13800334.90</td>\n",
       "    </tr>\n",
       "    <tr>\n",
       "      <th>Malta</th>\n",
       "      <td>14163744.55</td>\n",
       "    </tr>\n",
       "    <tr>\n",
       "      <th>Italy</th>\n",
       "      <td>14199991.25</td>\n",
       "    </tr>\n",
       "    <tr>\n",
       "      <th>Cape Verde</th>\n",
       "      <td>14383303.52</td>\n",
       "    </tr>\n",
       "    <tr>\n",
       "      <th>Belize</th>\n",
       "      <td>14384763.70</td>\n",
       "    </tr>\n",
       "    <tr>\n",
       "      <th>Cote d'Ivoire</th>\n",
       "      <td>14521698.84</td>\n",
       "    </tr>\n",
       "    <tr>\n",
       "      <th>Syria</th>\n",
       "      <td>14536103.72</td>\n",
       "    </tr>\n",
       "    <tr>\n",
       "      <th>Singapore</th>\n",
       "      <td>14709325.91</td>\n",
       "    </tr>\n",
       "    <tr>\n",
       "      <th>Sao Tome and Principe</th>\n",
       "      <td>14810451.22</td>\n",
       "    </tr>\n",
       "  </tbody>\n",
       "</table>\n",
       "</div>"
      ],
      "text/plain": [
       "                              총 이윤\n",
       "국가                                \n",
       "Tajikistan             13662027.26\n",
       "Mali                   13800334.90\n",
       "Malta                  14163744.55\n",
       "Italy                  14199991.25\n",
       "Cape Verde             14383303.52\n",
       "Belize                 14384763.70\n",
       "Cote d'Ivoire          14521698.84\n",
       "Syria                  14536103.72\n",
       "Singapore              14709325.91\n",
       "Sao Tome and Principe  14810451.22"
      ]
     },
     "execution_count": 30,
     "metadata": {},
     "output_type": "execute_result"
    }
   ],
   "source": [
    "# 총 이윤이 낮은 나라 bottom10\n",
    "group_data.sort_values(['총 이윤'], ascending=True).head(10)"
   ]
  },
  {
   "cell_type": "code",
   "execution_count": null,
   "metadata": {},
   "outputs": [],
   "source": []
  }
 ],
 "metadata": {
  "kernelspec": {
   "display_name": "Python 3",
   "language": "python",
   "name": "python3"
  },
  "language_info": {
   "codemirror_mode": {
    "name": "ipython",
    "version": 3
   },
   "file_extension": ".py",
   "mimetype": "text/x-python",
   "name": "python",
   "nbconvert_exporter": "python",
   "pygments_lexer": "ipython3",
   "version": "3.11.0"
  },
  "orig_nbformat": 4
 },
 "nbformat": 4,
 "nbformat_minor": 2
}
