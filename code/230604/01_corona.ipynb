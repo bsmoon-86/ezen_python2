{
 "cells": [
  {
   "cell_type": "code",
   "execution_count": null,
   "metadata": {},
   "outputs": [],
   "source": [
    "# 라이브러리 로드 \n",
    "import pandas as pd"
   ]
  },
  {
   "cell_type": "code",
   "execution_count": null,
   "metadata": {},
   "outputs": [],
   "source": [
    "# 코로나 데이터를 로드 \n",
    "# 상위 폴더로 이동 -> csv 하위폴더 이동 -> corona.csv\n",
    "corona = pd.read_csv(\"../csv/corona.csv\")"
   ]
  },
  {
   "cell_type": "code",
   "execution_count": null,
   "metadata": {},
   "outputs": [],
   "source": [
    "corona.head()"
   ]
  },
  {
   "cell_type": "code",
   "execution_count": null,
   "metadata": {},
   "outputs": [],
   "source": [
    "# 특정한 컬럼을 삭제\n",
    "# drop() 함수를 이용하여 컬럼을 삭제\n",
    "# axis라는 매개변수의 값을 기준으로 행, 열 지정\n",
    "# inplace 매개변수의 값은 기준이 되는 변수를 변경할지 지정\n",
    "\n",
    "# corona2 = corona.drop([\"Unnamed: 0\"], axis=1)\n",
    "corona.drop(['Unnamed: 0'], axis=1, inplace=True)"
   ]
  },
  {
   "cell_type": "code",
   "execution_count": null,
   "metadata": {},
   "outputs": [],
   "source": [
    "corona.head()"
   ]
  },
  {
   "cell_type": "code",
   "execution_count": null,
   "metadata": {},
   "outputs": [],
   "source": [
    "# 특정한 인덱스를 삭제\n",
    "corona.drop([0], axis=0)"
   ]
  },
  {
   "cell_type": "code",
   "execution_count": null,
   "metadata": {},
   "outputs": [],
   "source": [
    "# 컬럼의 이름을 변경\n",
    "# 컬럼의 이름들을 출력?\n",
    "corona.columns = ['등록일시', '총 사망자', '총 확진자', '게시글번호', \n",
    "                  '기준일', '기준시간', '수정일시', '누적 의심자', \n",
    "                  '누적 확진률']"
   ]
  },
  {
   "cell_type": "code",
   "execution_count": null,
   "metadata": {},
   "outputs": [],
   "source": [
    "corona.head(1)"
   ]
  },
  {
   "cell_type": "code",
   "execution_count": null,
   "metadata": {},
   "outputs": [],
   "source": [
    "# 게시글번호, 기준일, 기준시간 컬럼을 삭제\n",
    "corona = corona.drop(['게시글번호', '기준일', '기준시간'], axis=1)"
   ]
  },
  {
   "cell_type": "code",
   "execution_count": null,
   "metadata": {},
   "outputs": [],
   "source": [
    "corona.head()"
   ]
  },
  {
   "cell_type": "code",
   "execution_count": 21,
   "metadata": {},
   "outputs": [],
   "source": [
    "# 등록일시를 기준으로 오름차순 정렬로 변경\n",
    "# sort_value([기준이 되는 컬럼의 이름])\n",
    "# ascending 매개변수의 값이 True(기본값)면 오름차순, False 내림차순\n",
    "corona.sort_values(['등록일시'], inplace=True)"
   ]
  },
  {
   "cell_type": "code",
   "execution_count": null,
   "metadata": {},
   "outputs": [],
   "source": [
    "corona.head()"
   ]
  },
  {
   "cell_type": "code",
   "execution_count": 25,
   "metadata": {},
   "outputs": [],
   "source": [
    "# 인덱스의 값을 초기화\n",
    "# reset_index()\n",
    "# drop 매개변수의 값은 False(기본값) 기존의 인덱스를 유지 \n",
    "# True인 경우에는 기존의 인덱스를 삭제\n",
    "corona.reset_index(drop=True, inplace=True)"
   ]
  },
  {
   "cell_type": "code",
   "execution_count": 26,
   "metadata": {},
   "outputs": [
    {
     "name": "stdout",
     "output_type": "stream",
     "text": [
      "<class 'pandas.core.frame.DataFrame'>\n",
      "RangeIndex: 820 entries, 0 to 819\n",
      "Data columns (total 6 columns):\n",
      " #   Column  Non-Null Count  Dtype  \n",
      "---  ------  --------------  -----  \n",
      " 0   등록일시    820 non-null    object \n",
      " 1   총 사망자   820 non-null    int64  \n",
      " 2   총 확진자   820 non-null    int64  \n",
      " 3   수정일시    817 non-null    object \n",
      " 4   누적 의심자  692 non-null    float64\n",
      " 5   누적 확진률  623 non-null    float64\n",
      "dtypes: float64(2), int64(2), object(2)\n",
      "memory usage: 38.6+ KB\n"
     ]
    }
   ],
   "source": [
    "# 데이터프레임의 정보를 확인하는 함수 \n",
    "# info()\n",
    "corona.info()"
   ]
  },
  {
   "cell_type": "code",
   "execution_count": 28,
   "metadata": {},
   "outputs": [
    {
     "data": {
      "text/plain": [
       "등록일시        0\n",
       "총 사망자       0\n",
       "총 확진자       0\n",
       "수정일시        3\n",
       "누적 의심자    128\n",
       "누적 확진률    197\n",
       "dtype: int64"
      ]
     },
     "execution_count": 28,
     "metadata": {},
     "output_type": "execute_result"
    }
   ],
   "source": [
    "# 결측치를 조회\n",
    "corona.isna().sum()"
   ]
  },
  {
   "cell_type": "code",
   "execution_count": 29,
   "metadata": {},
   "outputs": [
    {
     "data": {
      "text/html": [
       "<div>\n",
       "<style scoped>\n",
       "    .dataframe tbody tr th:only-of-type {\n",
       "        vertical-align: middle;\n",
       "    }\n",
       "\n",
       "    .dataframe tbody tr th {\n",
       "        vertical-align: top;\n",
       "    }\n",
       "\n",
       "    .dataframe thead th {\n",
       "        text-align: right;\n",
       "    }\n",
       "</style>\n",
       "<table border=\"1\" class=\"dataframe\">\n",
       "  <thead>\n",
       "    <tr style=\"text-align: right;\">\n",
       "      <th></th>\n",
       "      <th>등록일시</th>\n",
       "      <th>총 사망자</th>\n",
       "      <th>총 확진자</th>\n",
       "      <th>수정일시</th>\n",
       "      <th>누적 의심자</th>\n",
       "      <th>누적 확진률</th>\n",
       "    </tr>\n",
       "  </thead>\n",
       "  <tbody>\n",
       "    <tr>\n",
       "      <th>0</th>\n",
       "      <td>2020-03-10 00:00:00.000</td>\n",
       "      <td>54</td>\n",
       "      <td>7513</td>\n",
       "      <td>2021-10-07 10:30:51.51</td>\n",
       "      <td>210144.0</td>\n",
       "      <td>3.919308</td>\n",
       "    </tr>\n",
       "    <tr>\n",
       "      <th>1</th>\n",
       "      <td>2020-03-11 00:00:00.000</td>\n",
       "      <td>60</td>\n",
       "      <td>7755</td>\n",
       "      <td>2021-10-07 10:30:51.51</td>\n",
       "      <td>222395.0</td>\n",
       "      <td>3.804175</td>\n",
       "    </tr>\n",
       "    <tr>\n",
       "      <th>2</th>\n",
       "      <td>2020-03-12 00:00:00.000</td>\n",
       "      <td>66</td>\n",
       "      <td>7869</td>\n",
       "      <td>2021-10-07 10:30:51.51</td>\n",
       "      <td>234998.0</td>\n",
       "      <td>3.621744</td>\n",
       "    </tr>\n",
       "    <tr>\n",
       "      <th>3</th>\n",
       "      <td>2020-03-13 00:00:00.000</td>\n",
       "      <td>67</td>\n",
       "      <td>7979</td>\n",
       "      <td>2021-10-07 10:30:51.51</td>\n",
       "      <td>248647.0</td>\n",
       "      <td>3.458499</td>\n",
       "    </tr>\n",
       "    <tr>\n",
       "      <th>4</th>\n",
       "      <td>2020-03-14 00:00:00.000</td>\n",
       "      <td>72</td>\n",
       "      <td>8086</td>\n",
       "      <td>2021-10-07 10:30:51.51</td>\n",
       "      <td>261335.0</td>\n",
       "      <td>3.318000</td>\n",
       "    </tr>\n",
       "    <tr>\n",
       "      <th>5</th>\n",
       "      <td>2020-03-15 00:00:00.000</td>\n",
       "      <td>75</td>\n",
       "      <td>8162</td>\n",
       "      <td>2021-10-07 10:30:51.51</td>\n",
       "      <td>268212.0</td>\n",
       "      <td>3.239660</td>\n",
       "    </tr>\n",
       "    <tr>\n",
       "      <th>6</th>\n",
       "      <td>2020-03-16 00:00:00.000</td>\n",
       "      <td>75</td>\n",
       "      <td>8236</td>\n",
       "      <td>2021-10-07 10:30:51.51</td>\n",
       "      <td>274504.0</td>\n",
       "      <td>3.173392</td>\n",
       "    </tr>\n",
       "    <tr>\n",
       "      <th>7</th>\n",
       "      <td>2020-03-17 00:00:00.000</td>\n",
       "      <td>81</td>\n",
       "      <td>8320</td>\n",
       "      <td>2021-10-07 10:30:51.51</td>\n",
       "      <td>286716.0</td>\n",
       "      <td>3.088058</td>\n",
       "    </tr>\n",
       "    <tr>\n",
       "      <th>8</th>\n",
       "      <td>2020-03-18 00:00:00.000</td>\n",
       "      <td>84</td>\n",
       "      <td>8413</td>\n",
       "      <td>2021-10-07 10:30:51.51</td>\n",
       "      <td>295647.0</td>\n",
       "      <td>3.012163</td>\n",
       "    </tr>\n",
       "    <tr>\n",
       "      <th>9</th>\n",
       "      <td>2020-03-19 00:00:00.000</td>\n",
       "      <td>91</td>\n",
       "      <td>8565</td>\n",
       "      <td>2021-10-07 10:30:51.51</td>\n",
       "      <td>307024.0</td>\n",
       "      <td>2.942086</td>\n",
       "    </tr>\n",
       "  </tbody>\n",
       "</table>\n",
       "</div>"
      ],
      "text/plain": [
       "                      등록일시  총 사망자  총 확진자                    수정일시    누적 의심자   \n",
       "0  2020-03-10 00:00:00.000     54   7513  2021-10-07 10:30:51.51  210144.0  \\\n",
       "1  2020-03-11 00:00:00.000     60   7755  2021-10-07 10:30:51.51  222395.0   \n",
       "2  2020-03-12 00:00:00.000     66   7869  2021-10-07 10:30:51.51  234998.0   \n",
       "3  2020-03-13 00:00:00.000     67   7979  2021-10-07 10:30:51.51  248647.0   \n",
       "4  2020-03-14 00:00:00.000     72   8086  2021-10-07 10:30:51.51  261335.0   \n",
       "5  2020-03-15 00:00:00.000     75   8162  2021-10-07 10:30:51.51  268212.0   \n",
       "6  2020-03-16 00:00:00.000     75   8236  2021-10-07 10:30:51.51  274504.0   \n",
       "7  2020-03-17 00:00:00.000     81   8320  2021-10-07 10:30:51.51  286716.0   \n",
       "8  2020-03-18 00:00:00.000     84   8413  2021-10-07 10:30:51.51  295647.0   \n",
       "9  2020-03-19 00:00:00.000     91   8565  2021-10-07 10:30:51.51  307024.0   \n",
       "\n",
       "     누적 확진률  \n",
       "0  3.919308  \n",
       "1  3.804175  \n",
       "2  3.621744  \n",
       "3  3.458499  \n",
       "4  3.318000  \n",
       "5  3.239660  \n",
       "6  3.173392  \n",
       "7  3.088058  \n",
       "8  3.012163  \n",
       "9  2.942086  "
      ]
     },
     "execution_count": 29,
     "metadata": {},
     "output_type": "execute_result"
    }
   ],
   "source": [
    "corona.head(10)"
   ]
  },
  {
   "cell_type": "code",
   "execution_count": 32,
   "metadata": {},
   "outputs": [],
   "source": [
    "# 일일 확진자 라는 새로운 컬럼을 추가 '\n",
    "# 데이터 간의 차이를 출력하는 함수\n",
    "# diff(n) : n은 인덱스의 이동 횟수 (n의 기본값은 1)\n",
    "corona['일일 확진자'] = corona['총 확진자'].diff()"
   ]
  },
  {
   "cell_type": "code",
   "execution_count": null,
   "metadata": {},
   "outputs": [],
   "source": [
    "corona.head(3)"
   ]
  },
  {
   "cell_type": "code",
   "execution_count": 35,
   "metadata": {},
   "outputs": [
    {
     "data": {
      "text/plain": [
       "0          NaN\n",
       "1         54.0\n",
       "2         60.0\n",
       "3         66.0\n",
       "4         67.0\n",
       "        ...   \n",
       "815    24229.0\n",
       "816    24238.0\n",
       "817    24258.0\n",
       "818    24279.0\n",
       "819    24299.0\n",
       "Name: 총 사망자, Length: 820, dtype: float64"
      ]
     },
     "execution_count": 35,
     "metadata": {},
     "output_type": "execute_result"
    }
   ],
   "source": [
    "# 인덱스를 이동 함수\n",
    "# shift(n) : n만큼 인덱스를 이동\n",
    "corona['총 사망자'].shift(1)"
   ]
  },
  {
   "cell_type": "code",
   "execution_count": 36,
   "metadata": {},
   "outputs": [
    {
     "data": {
      "text/plain": [
       "0         54\n",
       "1         60\n",
       "2         66\n",
       "3         67\n",
       "4         72\n",
       "       ...  \n",
       "815    24238\n",
       "816    24258\n",
       "817    24279\n",
       "818    24299\n",
       "819    24305\n",
       "Name: 총 사망자, Length: 820, dtype: int64"
      ]
     },
     "execution_count": 36,
     "metadata": {},
     "output_type": "execute_result"
    }
   ],
   "source": [
    "corona['총 사망자']"
   ]
  },
  {
   "cell_type": "code",
   "execution_count": 38,
   "metadata": {},
   "outputs": [],
   "source": [
    "corona['일일 사망자'] = corona['총 사망자'] - corona['총 사망자'].shift(1)"
   ]
  },
  {
   "cell_type": "code",
   "execution_count": 40,
   "metadata": {},
   "outputs": [],
   "source": [
    "# 결측치를 다른 값으로 대체\n",
    "# fillna(n) : 결측치를 n으로 채워준다. \n",
    "# 일일 확진자, 일일 사망자 컬럼의 결측치를 0으로 대체\n",
    "corona[['일일 확진자', '일일 사망자']] = \\\n",
    "      corona[['일일 확진자', '일일 사망자']].fillna(0)"
   ]
  },
  {
   "cell_type": "code",
   "execution_count": 42,
   "metadata": {},
   "outputs": [],
   "source": [
    "# fillna()에는 method 매개변수 -> ffill, bfill\n",
    "# ffill : 결측치 전의 데이터가 존재하면 해당하는 데이터로 결측치를 대체\n",
    "# bfill : 결측치 후의 데이터가 존재하면 해당하는 데이터로 결측치를 대체\n",
    "corona['누적 의심자'] = corona['누적 의심자'].fillna(method='ffill')"
   ]
  },
  {
   "cell_type": "code",
   "execution_count": null,
   "metadata": {},
   "outputs": [],
   "source": [
    "# loc[인덱스 조건, 컬럼의 조건], iloc[인덱스 조건, 컬럼의 조건]\n",
    "\n",
    "corona.loc[0:10, '총 사망자':'수정일시']"
   ]
  },
  {
   "cell_type": "code",
   "execution_count": 45,
   "metadata": {},
   "outputs": [
    {
     "data": {
      "text/html": [
       "<div>\n",
       "<style scoped>\n",
       "    .dataframe tbody tr th:only-of-type {\n",
       "        vertical-align: middle;\n",
       "    }\n",
       "\n",
       "    .dataframe tbody tr th {\n",
       "        vertical-align: top;\n",
       "    }\n",
       "\n",
       "    .dataframe thead th {\n",
       "        text-align: right;\n",
       "    }\n",
       "</style>\n",
       "<table border=\"1\" class=\"dataframe\">\n",
       "  <thead>\n",
       "    <tr style=\"text-align: right;\">\n",
       "      <th></th>\n",
       "      <th>총 확진자</th>\n",
       "      <th>수정일시</th>\n",
       "    </tr>\n",
       "  </thead>\n",
       "  <tbody>\n",
       "    <tr>\n",
       "      <th>0</th>\n",
       "      <td>7513</td>\n",
       "      <td>2021-10-07 10:30:51.51</td>\n",
       "    </tr>\n",
       "    <tr>\n",
       "      <th>1</th>\n",
       "      <td>7755</td>\n",
       "      <td>2021-10-07 10:30:51.51</td>\n",
       "    </tr>\n",
       "    <tr>\n",
       "      <th>2</th>\n",
       "      <td>7869</td>\n",
       "      <td>2021-10-07 10:30:51.51</td>\n",
       "    </tr>\n",
       "    <tr>\n",
       "      <th>3</th>\n",
       "      <td>7979</td>\n",
       "      <td>2021-10-07 10:30:51.51</td>\n",
       "    </tr>\n",
       "    <tr>\n",
       "      <th>4</th>\n",
       "      <td>8086</td>\n",
       "      <td>2021-10-07 10:30:51.51</td>\n",
       "    </tr>\n",
       "    <tr>\n",
       "      <th>5</th>\n",
       "      <td>8162</td>\n",
       "      <td>2021-10-07 10:30:51.51</td>\n",
       "    </tr>\n",
       "    <tr>\n",
       "      <th>6</th>\n",
       "      <td>8236</td>\n",
       "      <td>2021-10-07 10:30:51.51</td>\n",
       "    </tr>\n",
       "    <tr>\n",
       "      <th>7</th>\n",
       "      <td>8320</td>\n",
       "      <td>2021-10-07 10:30:51.51</td>\n",
       "    </tr>\n",
       "    <tr>\n",
       "      <th>8</th>\n",
       "      <td>8413</td>\n",
       "      <td>2021-10-07 10:30:51.51</td>\n",
       "    </tr>\n",
       "    <tr>\n",
       "      <th>9</th>\n",
       "      <td>8565</td>\n",
       "      <td>2021-10-07 10:30:51.51</td>\n",
       "    </tr>\n",
       "  </tbody>\n",
       "</table>\n",
       "</div>"
      ],
      "text/plain": [
       "   총 확진자                    수정일시\n",
       "0   7513  2021-10-07 10:30:51.51\n",
       "1   7755  2021-10-07 10:30:51.51\n",
       "2   7869  2021-10-07 10:30:51.51\n",
       "3   7979  2021-10-07 10:30:51.51\n",
       "4   8086  2021-10-07 10:30:51.51\n",
       "5   8162  2021-10-07 10:30:51.51\n",
       "6   8236  2021-10-07 10:30:51.51\n",
       "7   8320  2021-10-07 10:30:51.51\n",
       "8   8413  2021-10-07 10:30:51.51\n",
       "9   8565  2021-10-07 10:30:51.51"
      ]
     },
     "execution_count": 45,
     "metadata": {},
     "output_type": "execute_result"
    }
   ],
   "source": [
    "corona.iloc[0:10, 2:4]"
   ]
  }
 ],
 "metadata": {
  "kernelspec": {
   "display_name": "Python 3",
   "language": "python",
   "name": "python3"
  },
  "language_info": {
   "codemirror_mode": {
    "name": "ipython",
    "version": 3
   },
   "file_extension": ".py",
   "mimetype": "text/x-python",
   "name": "python",
   "nbconvert_exporter": "python",
   "pygments_lexer": "ipython3",
   "version": "3.11.0"
  },
  "orig_nbformat": 4
 },
 "nbformat": 4,
 "nbformat_minor": 2
}
