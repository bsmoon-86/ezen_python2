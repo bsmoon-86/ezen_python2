{
 "cells": [
  {
   "cell_type": "code",
   "execution_count": null,
   "metadata": {},
   "outputs": [],
   "source": [
    "a = 10\n",
    "\n",
    "print(a)\n",
    "print(type(a))"
   ]
  },
  {
   "cell_type": "code",
   "execution_count": null,
   "metadata": {},
   "outputs": [],
   "source": [
    "b = 'test'\n",
    "print(b)\n",
    "print(type(b))"
   ]
  },
  {
   "attachments": {},
   "cell_type": "markdown",
   "metadata": {},
   "source": [
    "### 연산자\n",
    "1. 산술 연산자\n",
    "2. 대입 연산자\n",
    "3. 비교 연산자\n",
    "4. 논리 연산자"
   ]
  },
  {
   "cell_type": "code",
   "execution_count": null,
   "metadata": {},
   "outputs": [],
   "source": [
    "# 산술 연산자 \n",
    "x = 10\n",
    "y = 3\n",
    "\n",
    "print(x + y)    # 13\n",
    "print(x - y)    # 7\n",
    "print(x * y)    # 30\n",
    "print(x / y)    # 3.333333.....\n",
    "print(x // y)   # 나눗셈의 몫 출력 : 3\n",
    "print(x % y)    # 나눗셈의 나머지 값 출력 : 1\n",
    "print(x ** y)   # 1000\n"
   ]
  },
  {
   "cell_type": "code",
   "execution_count": null,
   "metadata": {},
   "outputs": [],
   "source": [
    "# 대입 연산자\n",
    "a = 5\n",
    "print(a)    # 5\n",
    "a += 3   # a = a + 3 과 같은 의미\n",
    "print(a)    # 8\n",
    "a -= 2\n",
    "print(a)    # 6\n",
    "print(a - 2)    # 4\n",
    "print(a)    # 4, 6\n",
    "a %= 4\n",
    "print(a)    # 2"
   ]
  },
  {
   "cell_type": "code",
   "execution_count": null,
   "metadata": {},
   "outputs": [],
   "source": [
    "a = a + 3\n",
    "print(a)"
   ]
  },
  {
   "cell_type": "code",
   "execution_count": null,
   "metadata": {},
   "outputs": [],
   "source": [
    "# 비교 연산자\n",
    "print(x == y)   # false\n",
    "print(x != y)   # true\n",
    "print(x > y)    # true\n",
    "print(x < y)    # false\n",
    "print(x >= y)   # true\n",
    "print(x <= y)   # false"
   ]
  },
  {
   "cell_type": "code",
   "execution_count": null,
   "metadata": {},
   "outputs": [],
   "source": [
    "# 논리 연산자\n",
    "print(True and True)\n",
    "print(True and False)\n",
    "print(False and False)"
   ]
  },
  {
   "cell_type": "code",
   "execution_count": null,
   "metadata": {},
   "outputs": [],
   "source": [
    "print(True or True)\n",
    "print(True or False)\n",
    "print(False or False)"
   ]
  },
  {
   "cell_type": "code",
   "execution_count": null,
   "metadata": {},
   "outputs": [],
   "source": [
    "print(not(True))\n",
    "print(not(False))"
   ]
  },
  {
   "attachments": {},
   "cell_type": "markdown",
   "metadata": {},
   "source": [
    "## 조건문 \n",
    "1. if문 \n",
    "    1. if 조건식:"
   ]
  },
  {
   "cell_type": "code",
   "execution_count": null,
   "metadata": {},
   "outputs": [],
   "source": [
    "a = 15\n",
    "if (a < 10):\n",
    "    print('a는 10보다 작다')\n",
    "print('프로그램 종료')"
   ]
  },
  {
   "cell_type": "code",
   "execution_count": null,
   "metadata": {},
   "outputs": [],
   "source": [
    "# if ~ else문\n",
    "b = 13\n",
    "if (b < 10):\n",
    "    print('b는 10보다 작다')\n",
    "else:\n",
    "    print('b는 10보다 크거나 같다')\n",
    "print('프로그램 종료')"
   ]
  },
  {
   "cell_type": "code",
   "execution_count": null,
   "metadata": {},
   "outputs": [],
   "source": [
    "score = int(input(\"점수를 입력하시오\"))\n",
    "\n",
    "if (score >= 90):   # score 90점 이상인 경우\n",
    "    print('A')\n",
    "elif (score >= 80): # score 80점 이상, 90점 미만인 경우\n",
    "    print('B')\n",
    "elif (score >= 70): # score 70점 이상, 80점 미만인 경우\n",
    "    print('C')\n",
    "else:               # score 70점 미만인 경우\n",
    "    print('F')\n",
    "print('프로그램 종료')\n",
    "\n",
    "if (score >= 90):\n",
    "    print('A')\n",
    "if (score >= 80) and (score < 90):\n",
    "    print('B')\n",
    "if (score >= 70) and (score < 80):\n",
    "    print('C')\n",
    "if (score < 70):\n",
    "    print('F')\n"
   ]
  },
  {
   "cell_type": "code",
   "execution_count": null,
   "metadata": {},
   "outputs": [],
   "source": [
    "# input을 이용하여 숫자를 입력하면 \n",
    "# 그 숫자가 홀수 인지 짝수인지를 출력\n",
    "# if문을 사용\n",
    "\n",
    "# 조건식 : 짝수와 홀수를 구분하는 방법\n",
    "# 2로 나눴을때 나머지의 값을 기준으로 홀, 짝 구분\n",
    "\n",
    "a = int(input())\n",
    "\n",
    "if (a % 2 == 0):\n",
    "    print('짝수')\n",
    "else:\n",
    "    print('홀수')\n",
    "\n",
    "if (a % 2 == 0):\n",
    "    print('짝수')\n",
    "if (a % 2 == 1):\n",
    "    print('홀수')"
   ]
  },
  {
   "attachments": {},
   "cell_type": "markdown",
   "metadata": {},
   "source": [
    "## 반복문\n",
    "1. for문\n",
    "2. while문"
   ]
  },
  {
   "cell_type": "code",
   "execution_count": null,
   "metadata": {},
   "outputs": [],
   "source": [
    "# for문 \n",
    "for i in range(0, 5, 1):\n",
    "    # 반복 실행할 코드를 작성\n",
    "    print(i)\n",
    "print('프로그램 종료')"
   ]
  },
  {
   "cell_type": "code",
   "execution_count": null,
   "metadata": {},
   "outputs": [],
   "source": [
    "# for문을 이용하여 1부터 10까지의 숫자의 합계 \n",
    "\n",
    "# 합계라는 변수를 하나 생성\n",
    "result = 0\n",
    "\n",
    "for i in range(1, 11, 1):\n",
    "    result += i\n",
    "    # result = result + i\n",
    "print(result)"
   ]
  },
  {
   "cell_type": "code",
   "execution_count": null,
   "metadata": {},
   "outputs": [],
   "source": [
    "# 다중 for문 \n",
    "# 구구단을 출력\n",
    "# 2단부터 시작해서 9단 -> a * b = result\n",
    "# a는 2부터 9까지 반복\n",
    "# b는 1부터 9까지 반복\n",
    "\n",
    "for a in range(2, 10, 1):\n",
    "    for b in range(1, 10, 1):\n",
    "        result = a * b\n",
    "        # print(\"%d x %d = %d\" %(a, b, result))\n",
    "        # print(f\"{a} x {b} = {result}\")\n",
    "        print(a,'x', b, '=', result)"
   ]
  },
  {
   "cell_type": "code",
   "execution_count": null,
   "metadata": {},
   "outputs": [],
   "source": [
    "# 1부터 100까지 반복(for문)\n",
    "# 짝수의 값들의 합계(if문 사용)\n",
    "\n",
    "# 합계라는 초기값 0을 생성\n",
    "result = 0\n",
    "\n",
    "for i in range(1, 101, 1):\n",
    "    if (i % 2 == 0):\n",
    "        result += i\n",
    "        # result = result + i\n",
    "print(result)\n",
    "\n",
    "# 1부터 100까지 홀수의 합계\n",
    "result = 0\n",
    "for i in range(1, 101, 2):\n",
    "    result += i\n",
    "print(result)"
   ]
  },
  {
   "cell_type": "code",
   "execution_count": null,
   "metadata": {},
   "outputs": [],
   "source": [
    "# 다중 for문\n",
    "# 두 주사위 합이 10이 되는 경우의 수를 출력\n",
    "for i in range(1, 7, 1):\n",
    "    for j in range(1, 7, 1):\n",
    "        # print(i, j)\n",
    "        # result = i + j\n",
    "        # if (result == 10):\n",
    "        #     print(i, j)\n",
    "        if (i + j == 10):\n",
    "            print(i, j)"
   ]
  },
  {
   "attachments": {},
   "cell_type": "markdown",
   "metadata": {},
   "source": [
    "## 페르마의 마지막 정리\n",
    "    > a**n + b**n = c**n\n",
    "    > n의 값이 2보다 큰 자연수 이면 a,b,c의 자연수의 값이 존재하지 않는다. \n",
    "- n이 3이라고 가정\n",
    "- a, b, c의 1부터 10까지 자연수를 대입하여 페르마의 정리가 참임을 증명하시오"
   ]
  },
  {
   "cell_type": "code",
   "execution_count": null,
   "metadata": {},
   "outputs": [],
   "source": [
    "# a가 1부터 10까지 반복\n",
    "x = 1000\n",
    "for a in range(1, x, 1):\n",
    "    # b가 1부터 10까지 반복\n",
    "    for b in range(1, x, 1):\n",
    "        # c가 1부터 10까지 반복\n",
    "        for c in range(1, x, 1):\n",
    "            # 조건문을 사용하여 페르마의 정리를 조건식으로 사용\n",
    "            if (a**3 + b **3 == c **3):\n",
    "                # 조건식이 참인 경우 a,b,c를 출력\n",
    "                print(a, b, c)"
   ]
  },
  {
   "cell_type": "code",
   "execution_count": null,
   "metadata": {},
   "outputs": [],
   "source": [
    "# while문 \n",
    "\n",
    "# 초기값 지정 \n",
    "i = 0\n",
    "\n",
    "while i < 5:\n",
    "    i += 1\n",
    "    print(i)"
   ]
  },
  {
   "cell_type": "code",
   "execution_count": null,
   "metadata": {},
   "outputs": [],
   "source": [
    "#while문을 이용하여 1부터 10까지의 합계\n",
    "result = 0\n",
    "i = 1\n",
    "\n",
    "while i <= 10:\n",
    "    result += i\n",
    "    i += 1\n",
    "print(result)"
   ]
  },
  {
   "cell_type": "code",
   "execution_count": null,
   "metadata": {},
   "outputs": [],
   "source": [
    "# 1부터 100까지 숫자중 짝수의 값들의 합계\n",
    "result = 0\n",
    "i = 1\n",
    "\n",
    "while i <= 100:\n",
    "    if (i % 2 == 0):\n",
    "        result += i\n",
    "    i += 1\n",
    "print(result)"
   ]
  },
  {
   "cell_type": "code",
   "execution_count": null,
   "metadata": {},
   "outputs": [],
   "source": [
    "# 두 주사위의 합이 10보다 큰 경우를 출력\n",
    "\n",
    "i = 1\n",
    "\n",
    "while i <=6:\n",
    "    j = 1\n",
    "    while j <=6:\n",
    "        if(i + j > 10):\n",
    "            print(i, j)\n",
    "        j += 1\n",
    "    i += 1\n"
   ]
  },
  {
   "cell_type": "code",
   "execution_count": 55,
   "metadata": {},
   "outputs": [
    {
     "name": "stdout",
     "output_type": "stream",
     "text": [
      "1\n",
      "2\n",
      "3\n",
      "4\n"
     ]
    }
   ],
   "source": [
    "# break문 : 반복문을 종료\n",
    "for i in range(1, 101, 1):\n",
    "    if (i == 4):\n",
    "        break\n",
    "    print(i)\n"
   ]
  },
  {
   "cell_type": "code",
   "execution_count": 57,
   "metadata": {},
   "outputs": [
    {
     "name": "stdout",
     "output_type": "stream",
     "text": [
      "32 528\n"
     ]
    }
   ],
   "source": [
    "# 1부터 100까지의 합계\n",
    "# 합계가 500이 넘어가는 숫자와 합계의 값을 출력\n",
    "result = 0 \n",
    "\n",
    "for i in range(1, 101, 1):\n",
    "    result += i\n",
    "    if(result >= 500):\n",
    "        # print(i)\n",
    "        break\n",
    "print(i, result)"
   ]
  },
  {
   "cell_type": "code",
   "execution_count": 59,
   "metadata": {},
   "outputs": [
    {
     "name": "stdout",
     "output_type": "stream",
     "text": [
      "35 324\n",
      "35 324\n"
     ]
    }
   ],
   "source": [
    "# 1부터 100까지의 숫자중 홀수의 합계 중\n",
    "# 합계가 300이 넘어가는 숫자와 합계의 값을 출력\n",
    "\n",
    "result = 0\n",
    "\n",
    "for i in range(1, 101, 2):\n",
    "    result += i\n",
    "    if (result >= 300):\n",
    "        break\n",
    "print(i, result)\n",
    "\n",
    "result = 0\n",
    "\n",
    "for i in range(1, 101, 1):\n",
    "    if (i % 2 == 1):\n",
    "        result += i\n",
    "    if (result >= 300):\n",
    "        break\n",
    "print(i, result)"
   ]
  },
  {
   "cell_type": "code",
   "execution_count": 61,
   "metadata": {},
   "outputs": [
    {
     "name": "stdout",
     "output_type": "stream",
     "text": [
      "35 324\n",
      "35 324\n"
     ]
    }
   ],
   "source": [
    "#while문\n",
    "result = 0\n",
    "i = 1\n",
    "\n",
    "while i <= 100:\n",
    "    result += i\n",
    "    if (result >= 300):\n",
    "        break\n",
    "    i += 2\n",
    "print(i, result)\n",
    "\n",
    "result = 0\n",
    "i = 1\n",
    "while i <= 100:\n",
    "    if(i % 2 == 1):\n",
    "        result += i\n",
    "    if(result >= 300):\n",
    "        break\n",
    "    i += 1\n",
    "print(i, result)"
   ]
  },
  {
   "cell_type": "code",
   "execution_count": 64,
   "metadata": {},
   "outputs": [
    {
     "name": "stdout",
     "output_type": "stream",
     "text": [
      "4\n",
      "5\n",
      "6\n",
      "7\n",
      "8\n",
      "9\n"
     ]
    }
   ],
   "source": [
    "# continue문 : 반복문으로 돌아간다\n",
    "for i in range(1, 10, 1):\n",
    "    if (i < 4):\n",
    "        continue\n",
    "    print(i)"
   ]
  },
  {
   "cell_type": "code",
   "execution_count": 65,
   "metadata": {},
   "outputs": [
    {
     "name": "stdout",
     "output_type": "stream",
     "text": [
      "2500\n"
     ]
    }
   ],
   "source": [
    "# 1부터 100까지 홀수의 합계\n",
    "result = 0 \n",
    "\n",
    "for i in range(1, 101, 1):\n",
    "    if (i % 2 == 0):    # 짝수인 경우\n",
    "        continue\n",
    "    result += i\n",
    "print(result)"
   ]
  },
  {
   "cell_type": "code",
   "execution_count": 68,
   "metadata": {},
   "outputs": [
    {
     "name": "stdout",
     "output_type": "stream",
     "text": [
      "4 6\n",
      "5 5\n",
      "6 4\n"
     ]
    }
   ],
   "source": [
    "# 두 주사위의 합계가 10인 경우에만 경우의 수를 출력\n",
    "# continue를 사용하여 출력하시오\n",
    "for i in range(1, 7, 1):\n",
    "    for j in range(1, 7, 1):\n",
    "        if (i + j != 10):\n",
    "            continue\n",
    "        print(i, j)"
   ]
  },
  {
   "cell_type": "code",
   "execution_count": 2,
   "metadata": {},
   "outputs": [
    {
     "name": "stdout",
     "output_type": "stream",
     "text": [
      "1\n",
      "2\n",
      "3\n",
      "4\n"
     ]
    }
   ],
   "source": [
    "for i in range(1, 100, 1):\n",
    "    if i == 5:\n",
    "        break\n",
    "    print(i)"
   ]
  }
 ],
 "metadata": {
  "kernelspec": {
   "display_name": "Python 3",
   "language": "python",
   "name": "python3"
  },
  "language_info": {
   "codemirror_mode": {
    "name": "ipython",
    "version": 3
   },
   "file_extension": ".py",
   "mimetype": "text/x-python",
   "name": "python",
   "nbconvert_exporter": "python",
   "pygments_lexer": "ipython3",
   "version": "3.11.0"
  },
  "orig_nbformat": 4
 },
 "nbformat": 4,
 "nbformat_minor": 2
}
