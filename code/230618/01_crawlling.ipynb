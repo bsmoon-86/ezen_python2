{
 "cells": [
  {
   "attachments": {},
   "cell_type": "markdown",
   "metadata": {},
   "source": [
    "# 웹 크롤링 \n",
    "1. requests 라이브러리 \n",
    "2. bs4 라이브러리 \n",
    "    - BeautifulSoup 기능을 사용"
   ]
  },
  {
   "cell_type": "code",
   "execution_count": null,
   "metadata": {},
   "outputs": [],
   "source": [
    "# bs4 설치 \n",
    "!pip install bs4"
   ]
  },
  {
   "cell_type": "code",
   "execution_count": 2,
   "metadata": {},
   "outputs": [],
   "source": [
    "# 라이브러리 로드 \n",
    "import requests\n",
    "from bs4 import BeautifulSoup as bs"
   ]
  },
  {
   "cell_type": "code",
   "execution_count": 3,
   "metadata": {},
   "outputs": [
    {
     "name": "stdout",
     "output_type": "stream",
     "text": [
      "<Response [200]>\n"
     ]
    }
   ],
   "source": [
    "# 네이버 주소로 요청 \n",
    "url = \"https://www.naver.com\"\n",
    "\n",
    "response = requests.get(url)\n",
    "\n",
    "print(response)"
   ]
  },
  {
   "cell_type": "code",
   "execution_count": 6,
   "metadata": {},
   "outputs": [],
   "source": [
    "html_data = response.text"
   ]
  },
  {
   "cell_type": "code",
   "execution_count": 7,
   "metadata": {},
   "outputs": [
    {
     "name": "stdout",
     "output_type": "stream",
     "text": [
      "<class 'bs4.BeautifulSoup'>\n"
     ]
    }
   ],
   "source": [
    "# 파싱 \n",
    "# 데이터를 알맞게 변환\n",
    "# BeautifulSoup 라이브러리에서 사용이 가능한 데이터의 형태로 변경\n",
    "soup = bs(html_data, 'html.parser')\n",
    "print(type(soup))"
   ]
  },
  {
   "cell_type": "code",
   "execution_count": 8,
   "metadata": {},
   "outputs": [
    {
     "name": "stdout",
     "output_type": "stream",
     "text": [
      "<a href=\"#topAsideButton\"><span>상단영역 바로가기</span></a>\n"
     ]
    }
   ],
   "source": [
    "# find() : HTML 안에서 해당하는 태그의 첫번째 정보 출력\n",
    "print(soup.find('a'))"
   ]
  },
  {
   "cell_type": "code",
   "execution_count": null,
   "metadata": {},
   "outputs": [],
   "source": [
    "# find_all() : HTML 안에서 해당 태그의 모든 정보를 리스트 형태로 출력\n",
    "soup.find_all('a')"
   ]
  },
  {
   "cell_type": "code",
   "execution_count": 12,
   "metadata": {},
   "outputs": [
    {
     "name": "stdout",
     "output_type": "stream",
     "text": [
      "<div id=\"header\" role=\"banner\"> <div class=\"header_inner\" id=\"topSearchWrap\"> <div class=\"search_special_bg\" id=\"special-logo\"></div> <div class=\"ad_area\" id=\"timeboard-ex\" style=\"min-width:1340px\"> </div> <div class=\"search_area\" id=\"search_area\" style=\"border-color:#fff\"> <div class=\"link_search_special\" id=\"special-input-logo-ex\" style=\"display:none\"></div> <div class=\"search_group\"> <div class=\"search_group_inner\" id=\"search\"> <h1 class=\"search_logo\" id=\"special-input-logo\"></h1> <form action=\"https://search.naver.com/search.naver\" id=\"sform\" method=\"get\" name=\"search\" role=\"search\"> <fieldset> <legend class=\"blind\">검색</legend> <input name=\"where\" type=\"hidden\" value=\"nexearch\"/> <input id=\"sm\" name=\"sm\" type=\"hidden\" value=\"top_hty\"/> <input id=\"fbm\" name=\"fbm\" type=\"hidden\" value=\"0\"/> <input disabled=\"disabled\" id=\"acr\" name=\"acr\" type=\"hidden\" value=\"\"/> <input disabled=\"disabled\" id=\"acq\" name=\"acq\" type=\"hidden\" value=\"\"/> <input disabled=\"disabled\" id=\"qdt\" name=\"qdt\" type=\"hidden\" value=\"\"/> <input id=\"ie\" name=\"ie\" type=\"hidden\" value=\"utf8\"/> <input disabled=\"disabled\" id=\"acir\" name=\"acir\" type=\"hidden\" value=\"\"/> <input disabled=\"disabled\" id=\"os\" name=\"os\" type=\"hidden\" value=\"\"/> <input disabled=\"disabled\" id=\"bid\" name=\"bid\" type=\"hidden\" value=\"\"/> <input disabled=\"disabled\" id=\"pkid\" name=\"pkid\" type=\"hidden\" value=\"\"/> <input disabled=\"disabled\" id=\"eid\" name=\"eid\" type=\"hidden\" value=\"\"/> <input disabled=\"disabled\" id=\"mra\" name=\"mra\" type=\"hidden\" value=\"\"/> <div class=\"search_input_box\"> <input autocomplete=\"off\" class=\"search_input\" data-atcmp-element=\"\" id=\"query\" maxlength=\"255\" name=\"query\" placeholder=\"검색어를 입력해 주세요.\" title=\"검색어를 입력해 주세요.\" type=\"search\"/> </div> <button class=\"btn_search\" onclick='window.nclk_v2(this,\"sch.action\")' type=\"submit\"> <span class=\"ico_btn_search\" id=\"search-btn\"></span> <span class=\"blind\">검색</span> </button> </fieldset> </form> <div class=\"search_box\"> <button class=\"btn_keyboard\" id=\"ke_kbd_btn\" type=\"button\"> <span class=\"keybord_text\"> <span class=\"blind\">입력도구</span> </span> </button> <div id=\"_nx_kbd\" style=\"display:none\"></div> <button class=\"btn_arrow\" data-atcmp-element=\"\" id=\"nautocomplete\" type=\"button\"> <span class=\"blind\">자동완성/최근검색어펼치기</span> </button> </div> <div class=\"layer_atcmp\" id=\"autoFrame\" style=\"display:none\"> <div class=\"ly_atcmp\" data-atcmp-element=\"\"> <div class=\"api_atcmp_wrap\"> <div class=\"atcmp_fixer _recent_layer\" style=\"display:none\"> <div class=\"atcmp_header _recent_header\"> <strong class=\"tit\">최근검색어</strong> <div class=\"option\"> <a aria-pressed=\"false\" class=\"item _delAll\" href=\"#\" role=\"button\">전체삭제</a> </div> </div> <div class=\"atcmp_container\"> <ul class=\"kwd_lst _recent\"> <li class=\"item _item\" data-keyword=\"@in_txt@\" data-rank=\"@rank@\" data-template-type=\"history\"> <a class=\"kwd\" href=\"#\"> <span class=\"fix\"><span class=\"common_ico_kwd\"><i class=\"imsc ico_search\"></i></span><span>@txt@</span></span> </a> <span class=\"etc\"> <em class=\"date\">@date@.</em> <a aria-pressed=\"false\" class=\"bt_item _del\" href=\"#\" role=\"button\"><i class=\"imsc ico_del\">삭제</i></a> </span> </li> </ul> <div class=\"kwd_info kwd_off _offMsg\" style=\"display:none\">검색어 저장 기능이 꺼져 있습니다.<br/><span class=\"kwd_dsc\">설정이 초기화 된다면 <a class=\"kwd_help\" data-clk=\"sly.help\" href=\"https://help.naver.com/support/alias/search/word/word_29.naver\" target=\"_blank\">도움말</a>을 확인해주세요.</span></div> <div class=\"kwd_info kwd_none _recentNone\" style=\"display:none\">최근 검색어 내역이 없습니다.<br/><span class=\"kwd_dsc\">설정이 초기화 된다면 <a class=\"kwd_help\" data-clk=\"sly.help\" href=\"https://help.naver.com/support/alias/search/word/word_29.naver\" target=\"_blank\">도움말</a>을 확인해주세요.</span></div> </div> <div class=\"atcmp_footer\"> <span class=\"side_opt_area\"> <span class=\"opt_item\"><a data-clk=\"sly.help\" href=\"https://help.naver.com/support/service/main.help?serviceNo=605&amp;categoryNo=1991\" target=\"_blank\">도움말</a></span> </span> <span class=\"rside_opt_area\"> <span class=\"opt_item\"> <a class=\"close _keywordOnOff\" href=\"#\">자동저장 끄기</a> </span> </span> </div> </div> <div class=\"atcmp_fixer _atcmp_layer\" style=\"display:none\"> <div class=\"atcmp_container _words\"> <div class=\"atcmp_correct type_lotto _answer\" data-code=\"@code@\" data-keyword=\"@1@\" data-template-type=\"answer_3\"> <a class=\"link_item\" href=\"#\"> <span class=\"common_ico_kwd\"><i class=\"imsc ico_search\"></i></span> <div class=\"dsc_area\"> <span class=\"tit\">@5@회 당첨번호</span> <span class=\"dsc\"> <span class=\"item\">동행복권 제공</span> </span> </div> <span class=\"etc_area\"> <span class=\"etc lotto\"> <em class=\"n@6@\">@6@</em><em class=\"n@7@\">@7@</em><em class=\"n@8@\">@8@</em><em class=\"n@9@\">@9@</em><em class=\"n@10@\">@10@</em><em class=\"n@11@\">@11@</em><em class=\"imsc_bf bonus n@12@\">@12@</em> </span> </span> </a> </div> <div class=\"atcmp_correct type_exchange _answer\" data-code=\"@code@\" data-keyword=\"@1@\" data-template-type=\"answer_9\"> <a class=\"link_item @11@\" href=\"#\"> <span class=\"common_ico_kwd\"><i class=\"imsc ico @12@\">@14@</i></span> <div class=\"dsc_area\"> <span class=\"tit\">@txt@<span class=\"sub\">@currency@</span></span> <span class=\"dsc\"> <span class=\"item\"><i class=\"imsc ico_arr\"></i>@8@(@9@%)</span> </span> </div> <span class=\"etc_area\"> <span class=\"etc\"><em class=\"num\">@6@</em>원</span> </span> </a> </div> <div class=\"atcmp_correct type_weather _answer\" data-code=\"@code@\" data-keyword=\"@1@\" data-template-type=\"answer_11\"> <a class=\"link_item @12@\" href=\"#\"> <span class=\"common_ico_kwd\"><i class=\"imsc ico_search\"></i></span> <div class=\"dsc_area\"> <span class=\"tit\">@txt@</span> <span class=\"dsc\"> <span class=\"item\">@7@, @message@</span> </span> </div> <span class=\"etc_area\"> <span class=\"etc\"> <span class=\"ico_weather\"><i class=\"imsc ico ico@iconNo@\">@7@</i></span> <em class=\"degree\">@8@<sup class=\"celsius\">°</sup></em> </span> </span> </a> </div> <div class=\"atcmp_correct type_site _answer\" data-code=\"@code@\" data-keyword=\"@1@\" data-template-type=\"answer_17\"> <a class=\"link_item\" href=\"@5@\" target=\"_blank\"> <span class=\"common_ico_kwd\"><i class=\"imsc ico_url\"></i></span> <div class=\"dsc_area\"> <span class=\"tit\">@txt@</span> <span class=\"dsc\"> <span class=\"item\">@5@</span> </span> </div> <span class=\"etc_area\"> <span class=\"etc\">바로가기</span> </span> </a> </div> <ul class=\"kwd_lst _kwd_list\"> <li class=\"item _item\" data-keyword=\"@in_txt@\" data-rank=\"@rank@\" data-template-type=\"suggestion\"> <a class=\"kwd\" href=\"#\"> <span class=\"fix\"><span class=\"common_ico_kwd\"><i class=\"imsc ico_search\"></i></span>@txt@</span> </a> <span class=\"etc\"> <a aria-pressed=\"false\" class=\"bt_item _add\" href=\"#\" role=\"button\"><i class=\"imsc ico_insert\">추가</i></a> </span> </li> <li class=\"item has_correct _item\" data-keyword=\"@in_txt@\" data-rank=\"@rank@\" data-template-type=\"history\"> <a class=\"kwd\" href=\"#\"> <span class=\"fix\"><span class=\"common_ico_kwd\"><i class=\"imsc ico_search\"></i></span>@txt@</span> </a> <span class=\"etc\"> <em class=\"date\">@date@.</em> <a aria-pressed=\"false\" class=\"bt_item _add\" href=\"#\" role=\"button\"><i class=\"imsc ico_insert\">추가</i></a> </span> </li> </ul> <li class=\"item has_correct _item\" data-intend-rank=\"@intendRank@\" data-keyword=\"@transQuery@\" data-rank=\"@rank@\" data-template-type=\"intend\"> <a class=\"kwd\" href=\"#\"> <span class=\"fix\"><span class=\"common_ico_kwd\"><i class=\"imsc ico_search\"></i></span>@query@ <span class=\"context\">@intend@</span></span> </a> <span class=\"etc\"> <a aria-pressed=\"false\" class=\"bt_item _add\" href=\"#\" role=\"button\"><i class=\"imsc ico_insert\">추가</i></a> </span> </li> <div class=\"atcmp_alert _alert\"> <div class=\"dsc_election\"> <p class=\"dsc\"> <i class=\"imsc ico_election\"></i><span class=\"_alert_passage\"></span> </p> <span class=\"dsc_inner\"> <span class=\"_alert_passage2\"></span> <a class=\"link _alert_link\" href=\"#\" target=\"_blank\">자세히보기</a> </span> </div> </div> <div class=\"atcmp_plus _plus\"> <div class=\"dsc_plus\"> <a class=\"link_dsc\" data-clk=\"sug.cxhelp\" href=\"https://help.naver.com/support/alias/search/word/word_16.naver\" target=\"_blank\">관심사를 반영한 컨텍스트 자동완성<i class=\"imsc ico_help\">도움말</i></a> </div> <div class=\"switch\"> <a aria-pressed=\"false\" class=\"bt_switch active _plus_btn\" href=\"#\" role=\"button\"><i class=\"imsc ico_option\">컨텍스트 자동완성</i></a> </div> <div class=\"layer_plus _plus_layer\"> <strong class=\"tit\">컨텍스트 자동완성</strong> <div class=\"_plus_layer_isloggedin\" style=\"display:none\"> <p class=\"dsc\">ON/OFF 설정은<br/>해당기기(브라우저)에 저장됩니다.</p> <div class=\"btn_area\"> <a class=\"btn btn_view\" data-clk=\"sug.cxlink\" href=\"https://help.naver.com/support/alias/search/word/word_16.naver\" target=\"_blank\">자세히</a> </div> </div> <div class=\"_plus_layer_isnotloggedin\" style=\"display:none\"> <p class=\"dsc\"><em class=\"txt\">동일한 시간대/연령/남녀별</em> 사용자 그룹의<br/>관심사에 맞춰 자동완성을 제공합니다.</p> <div class=\"btn_area\"> <a class=\"btn btn_login\" data-clk=\"sug.cxlogin\" href=\"https://nid.naver.com/nidlogin.login\">로그인</a> <a class=\"btn btn_view\" data-clk=\"sug.cxlink\" href=\"https://help.naver.com/support/alias/search/word/word_16.naver\" target=\"_blank\">자세히</a> </div> </div> <a class=\"btn_close _plus_layer_close\" href=\"#\" role=\"button\"><i class=\"imsc ico_close\">컨텍스트 자동완성 레이어 닫기</i></a> </div> </div> </div> <div class=\"atcmp_footer\"> <span class=\"side_opt_area\"> <span class=\"opt_item\"><a data-clk=\"sug.help\" href=\"https://help.naver.com/support/service/main.help?serviceNo=605&amp;categoryNo=1987\" target=\"_blank\">도움말</a></span> <span class=\"opt_item\"><a class=\"report\" data-clk=\"sug.report\" href=\"https://help.naver.com/support/contents/contents.help?serviceNo=605&amp;categoryNo=18215\" target=\"_blank\">신고</a></span> </span> <span class=\"rside_opt_area\"> <span class=\"opt_item\"> <a class=\"close _suggestOnOff\" href=\"#\">자동완성 끄기</a> </span> </span> </div> </div> </div> </div> </div> </div> </div> </div> <div id=\"search-right-banner\"></div> <div class=\"shortcut_area\" id=\"shortcutArea\" role=\"region\"></div> <div class=\"menu_area\" id=\"topAsideArea\"></div> <div class=\"pay_area\" id=\"topPayArea\"></div> <div class=\"notify_area\" id=\"topNotiArea\"></div> </div> </div>\n"
     ]
    }
   ],
   "source": [
    "# id 값을 기준으로 데이터를 확인\n",
    "print(soup.find(id = 'header'))"
   ]
  },
  {
   "cell_type": "code",
   "execution_count": null,
   "metadata": {},
   "outputs": [],
   "source": [
    "soup.find_all('span', limit=10)"
   ]
  },
  {
   "cell_type": "code",
   "execution_count": 21,
   "metadata": {},
   "outputs": [
    {
     "data": {
      "text/plain": [
       "<span class=\"blind\">검색</span>"
      ]
     },
     "execution_count": 21,
     "metadata": {},
     "output_type": "execute_result"
    }
   ],
   "source": [
    "# 선택한 태그 중에 class값을 기준으로 출력\n",
    "soup.find('span', attrs={\n",
    "    'class' : 'blind'\n",
    "})"
   ]
  },
  {
   "cell_type": "code",
   "execution_count": 18,
   "metadata": {},
   "outputs": [],
   "source": [
    "data = soup.find_all('span', attrs={\n",
    "    'class' : 'blind'\n",
    "})"
   ]
  },
  {
   "cell_type": "code",
   "execution_count": 23,
   "metadata": {},
   "outputs": [
    {
     "name": "stdout",
     "output_type": "stream",
     "text": [
      "['검색', '입력도구', '자동완성/최근검색어펼치기']\n"
     ]
    }
   ],
   "source": [
    "# 리스트의 값을 하나씩 출력해서 그 값에 contents만 추출한 뒤 리스트에 추가 \n",
    "data_list = []\n",
    "for i in data:\n",
    "    # print(i.get_text())\n",
    "    data_list.append(i.get_text())\n",
    "print(data_list)\n",
    "# for i in range(0, len(data), 1):\n",
    "#     print(data[i].get_text())"
   ]
  },
  {
   "cell_type": "code",
   "execution_count": null,
   "metadata": {},
   "outputs": [],
   "source": []
  }
 ],
 "metadata": {
  "kernelspec": {
   "display_name": "Python 3",
   "language": "python",
   "name": "python3"
  },
  "language_info": {
   "codemirror_mode": {
    "name": "ipython",
    "version": 3
   },
   "file_extension": ".py",
   "mimetype": "text/x-python",
   "name": "python",
   "nbconvert_exporter": "python",
   "pygments_lexer": "ipython3",
   "version": "3.11.0"
  },
  "orig_nbformat": 4
 },
 "nbformat": 4,
 "nbformat_minor": 2
}
