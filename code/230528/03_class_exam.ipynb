{
 "cells": [
  {
   "attachments": {},
   "cell_type": "markdown",
   "metadata": {},
   "source": [
    "# class\n",
    "\n",
    "1. User 클래스 하나 생성\n",
    "    - 생성자 함수는 유저의 정보를 입력(이름 , 휴대폰번호, 생년월일)\n",
    "    - info() 함수를 생성 : 유저의 정보를 출력\n",
    "\n",
    "2. Wallet 클래스를 생성\n",
    "    - User() 클래스를 상속\n",
    "    - 생성자 함수 User 정보와 지갑 브랜드, 지갑의 가치, 잔액(기본값은 0) 입력\n",
    "    - work()함수 : 일의 종류 '요리', '독서', '개발'이고 '요리'를 하는 경우 잔액을 15000원 증가, '독서'는 7000원, '개발' 30000원 증가\n",
    "    - wallet_info() 함수 : 현재 유저의 정보와 지갑의 잔액을 출력\n",
    "    "
   ]
  },
  {
   "cell_type": "code",
   "execution_count": 9,
   "metadata": {},
   "outputs": [],
   "source": [
    "# User 클래스를 선언\n",
    "class User:\n",
    "    # 생성자 함수 \n",
    "    def __init__(self, _name, _phone, _birth):\n",
    "        self.name = _name\n",
    "        self.phone = _phone\n",
    "        self.birth = _birth\n",
    "    \n",
    "    # 유저의 정보를 출력하는 함수 \n",
    "    def info(self):\n",
    "        self.result = [self.name, self.phone, self.birth]\n",
    "        return self.result"
   ]
  },
  {
   "cell_type": "code",
   "execution_count": 10,
   "metadata": {},
   "outputs": [],
   "source": [
    "# 클래스를 생성\n",
    "user1 = User('test', '01012345678', '800101')\n",
    "user2 = User('test2', '01098765432', '900101')"
   ]
  },
  {
   "cell_type": "code",
   "execution_count": 3,
   "metadata": {},
   "outputs": [
    {
     "name": "stdout",
     "output_type": "stream",
     "text": [
      "['test', '01012345678', '800101']\n",
      "['test2', '01098765432', '900101']\n"
     ]
    }
   ],
   "source": [
    "print(user1.info())\n",
    "print(user2.info())"
   ]
  },
  {
   "cell_type": "code",
   "execution_count": 32,
   "metadata": {},
   "outputs": [],
   "source": [
    "# Wallet 클래스 선언\n",
    "class Wallet(User):\n",
    "    # 생성자 함수 \n",
    "    def __init__(self, _name, _phone, _birth, _brand, _value, _balance = 0):\n",
    "        # 부모 클래스(User)의 생성자 함수를 호출\n",
    "        super().__init__(_name, _phone, _birth)\n",
    "        self.brand = _brand\n",
    "        self.value = _value\n",
    "        self.balance = _balance\n",
    "\n",
    "    # 일을 하는 함수 생성 -> 일의 종류에 따라 잔액이 변경\n",
    "    def work(self, _work_type):\n",
    "        # 일의 종류(조건문 사용)\n",
    "        if (_work_type == \"요리\"):\n",
    "            self.balance += 15000\n",
    "        elif (_work_type == \"독서\"):\n",
    "            self.balance += 7000\n",
    "        elif (_work_type == \"개발\"):\n",
    "            self.balance += 30000\n",
    "        else:\n",
    "            return \"work_type이 존재하지 않습니다.\"\n",
    "        \n",
    "        return f\"{_work_type} 일을 성공하였습니다. 현재의 잔액은 {self.balance}입니다.\"\n",
    "    \n",
    "    # 지갑의 잔액을 출력하는 함수 \n",
    "    def wallet_info(self):\n",
    "        print(f'지갑의 소유자는 {self.name}')\n",
    "        print(f'현재 잔액은 {self.balance}')\n",
    "        return (self.name, self.balance)\n",
    "    \n",
    "    # 소비하는 함수 생성\n",
    "    # 음식의 종류에 따라 잔액이 변경되는 함수\n",
    "    # 부대찌개인 경우 10000원 차감\n",
    "    # 감자탕인 경우 8000원 차감\n",
    "    # 우동인 경우 5000원 차감\n",
    "\n",
    "    # 함수 생성(매개변수 2개 self, 음식의 종류)\n",
    "    def buy(self, _food_type):\n",
    "    # 조건문을 이용하여 음식의 종류에 따라서 지갑의 잔액을 차감\n",
    "        if (_food_type == '부대찌개'):\n",
    "            # self.cost = 10000\n",
    "            if (self.balance >= 10000):\n",
    "                self.balance -= 10000\n",
    "            else:\n",
    "                return \"구매하려는 금액이 잔액보다 많습니다.\"\n",
    "        elif (_food_type == '감자탕'):\n",
    "            # self.cost = 8000\n",
    "            if (self.balance >= 8000):\n",
    "                self.balance -= 8000\n",
    "            else:\n",
    "                return \"구매하려는 금액이 잔액보다 많습니다.\"\n",
    "        elif (_food_type == '우동'):\n",
    "            # self.cost = 5000\n",
    "            if (self.balance >= 5000):\n",
    "                self.balace -= 5000\n",
    "            else:\n",
    "                return \"구매하려는 금액이 잔액보다 많습니다.\"\n",
    "        else :\n",
    "            return '음식의 종류가 맞지 않습니다.'\n",
    "\n",
    "        # self.balance -= self.cost\n",
    "    # 조건문이 종료하고 현재의 잔액을 리턴\n",
    "        return f\"{_food_type} 구매에 성공했습니다. 현재의 잔액은 {self.balance}입니다. \""
   ]
  },
  {
   "cell_type": "code",
   "execution_count": 33,
   "metadata": {},
   "outputs": [],
   "source": [
    "# 클래스 생성\n",
    "wallet1 = Wallet('test', '01012345678', '800101', '샤넬', 5000000)\n",
    "wallet2 = Wallet('test2', '01098765432', '850101', '구찌', 1000000)"
   ]
  },
  {
   "cell_type": "code",
   "execution_count": 22,
   "metadata": {},
   "outputs": [
    {
     "name": "stdout",
     "output_type": "stream",
     "text": [
      "지갑의 소유자는 test\n",
      "현재 잔액은 0\n",
      "('test', 0)\n",
      "지갑의 소유자는 test2\n",
      "현재 잔액은 0\n",
      "('test2', 0)\n"
     ]
    }
   ],
   "source": [
    "# 지갑의 정보를 출력\n",
    "print(wallet1.wallet_info())\n",
    "print(wallet2.wallet_info())"
   ]
  },
  {
   "cell_type": "code",
   "execution_count": 34,
   "metadata": {},
   "outputs": [
    {
     "data": {
      "text/plain": [
       "'요리 일을 성공하였습니다. 현재의 잔액은 15000입니다.'"
      ]
     },
     "execution_count": 34,
     "metadata": {},
     "output_type": "execute_result"
    }
   ],
   "source": [
    "# work() 함수를 호출\n",
    "# 일의 종류에 따라 잔액을 변경\n",
    "wallet1.work('요리')"
   ]
  },
  {
   "cell_type": "code",
   "execution_count": 35,
   "metadata": {},
   "outputs": [
    {
     "data": {
      "text/plain": [
       "'독서 일을 성공하였습니다. 현재의 잔액은 7000입니다.'"
      ]
     },
     "execution_count": 35,
     "metadata": {},
     "output_type": "execute_result"
    }
   ],
   "source": [
    "wallet2.work('독서')"
   ]
  },
  {
   "cell_type": "code",
   "execution_count": 19,
   "metadata": {},
   "outputs": [
    {
     "name": "stdout",
     "output_type": "stream",
     "text": [
      "지갑의 소유자는 test\n",
      "현재 잔액은 15000\n",
      "('test', 15000)\n",
      "지갑의 소유자는 test2\n",
      "현재 잔액은 7000\n",
      "('test2', 7000)\n"
     ]
    }
   ],
   "source": [
    "print(wallet1.wallet_info())\n",
    "print(wallet2.wallet_info())"
   ]
  },
  {
   "cell_type": "code",
   "execution_count": 36,
   "metadata": {},
   "outputs": [
    {
     "name": "stdout",
     "output_type": "stream",
     "text": [
      "부대찌개 구매에 성공했습니다. 현재의 잔액은 5000입니다. \n",
      "구매하려는 금액이 잔액보다 많습니다.\n"
     ]
    }
   ],
   "source": [
    "print(wallet1.buy('부대찌개'))\n",
    "print(wallet2.buy('감자탕'))"
   ]
  },
  {
   "cell_type": "code",
   "execution_count": 28,
   "metadata": {},
   "outputs": [],
   "source": [
    "a = 10\n",
    "b = 20"
   ]
  },
  {
   "cell_type": "code",
   "execution_count": 30,
   "metadata": {},
   "outputs": [
    {
     "data": {
      "text/plain": [
       "10"
      ]
     },
     "execution_count": 30,
     "metadata": {},
     "output_type": "execute_result"
    }
   ],
   "source": [
    "a\n"
   ]
  },
  {
   "cell_type": "code",
   "execution_count": 31,
   "metadata": {},
   "outputs": [
    {
     "data": {
      "text/plain": [
       "20"
      ]
     },
     "execution_count": 31,
     "metadata": {},
     "output_type": "execute_result"
    }
   ],
   "source": [
    "b"
   ]
  }
 ],
 "metadata": {
  "kernelspec": {
   "display_name": "Python 3",
   "language": "python",
   "name": "python3"
  },
  "language_info": {
   "codemirror_mode": {
    "name": "ipython",
    "version": 3
   },
   "file_extension": ".py",
   "mimetype": "text/x-python",
   "name": "python",
   "nbconvert_exporter": "python",
   "pygments_lexer": "ipython3",
   "version": "3.11.0"
  },
  "orig_nbformat": 4
 },
 "nbformat": 4,
 "nbformat_minor": 2
}
