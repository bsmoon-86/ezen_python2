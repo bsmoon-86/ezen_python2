{
 "cells": [
  {
   "cell_type": "code",
   "execution_count": 1,
   "metadata": {},
   "outputs": [],
   "source": [
    "# 클래스를 선언\n",
    "class Class_1:\n",
    "    def func_1(self):\n",
    "        print('Class_1 call')"
   ]
  },
  {
   "cell_type": "code",
   "execution_count": 2,
   "metadata": {},
   "outputs": [
    {
     "name": "stdout",
     "output_type": "stream",
     "text": [
      "<__main__.Class_1 object at 0x0000023DC9B06A90>\n"
     ]
    }
   ],
   "source": [
    "# 클래스 생성\n",
    "a = Class_1()\n",
    "print(a)"
   ]
  },
  {
   "cell_type": "code",
   "execution_count": 3,
   "metadata": {},
   "outputs": [
    {
     "name": "stdout",
     "output_type": "stream",
     "text": [
      "Class_1 call\n"
     ]
    }
   ],
   "source": [
    "# 클래스 안에 있는 메서드 func_1() 실행\n",
    "a.func_1()"
   ]
  },
  {
   "cell_type": "code",
   "execution_count": 12,
   "metadata": {},
   "outputs": [],
   "source": [
    "class Class_2():\n",
    "    # 생성자 함수\n",
    "    def __init__(self, input_a, input_b):\n",
    "        self.class_a = input_a\n",
    "        self.class_b = input_b\n",
    "\n",
    "    # 매서드 추가 \n",
    "    def add(self):\n",
    "        self.result = self.class_a + self.class_b\n",
    "        return self.result\n",
    "    \n",
    "    def sub(self):\n",
    "        self.result = self.class_a - self.class_b\n",
    "        return self.result"
   ]
  },
  {
   "cell_type": "code",
   "execution_count": 13,
   "metadata": {},
   "outputs": [],
   "source": [
    "# 클래스를 생성\n",
    "b = Class_2(5, 2)\n",
    "c = Class_2(10, 4)"
   ]
  },
  {
   "cell_type": "code",
   "execution_count": 11,
   "metadata": {},
   "outputs": [
    {
     "name": "stdout",
     "output_type": "stream",
     "text": [
      "2\n",
      "4\n"
     ]
    }
   ],
   "source": [
    "print(b.class_b)\n",
    "print(c.class_b)"
   ]
  },
  {
   "cell_type": "code",
   "execution_count": 14,
   "metadata": {},
   "outputs": [
    {
     "name": "stdout",
     "output_type": "stream",
     "text": [
      "7\n",
      "14\n"
     ]
    }
   ],
   "source": [
    "print(b.add())\n",
    "print(c.add())"
   ]
  },
  {
   "cell_type": "code",
   "execution_count": 22,
   "metadata": {},
   "outputs": [],
   "source": [
    "class Class_3():\n",
    "    # 클래스 변수 생성\n",
    "    # _list = []\n",
    "    # 생성자 함수 생성\n",
    "    def __init__(self, name):\n",
    "        self.name = name\n",
    "        self._list = []\n",
    "\n",
    "    # 일반 함수 생성\n",
    "    def add_list(self, phone):\n",
    "        self._list.append(phone)"
   ]
  },
  {
   "cell_type": "code",
   "execution_count": 23,
   "metadata": {},
   "outputs": [],
   "source": [
    "# 클래스 생성\n",
    "a = Class_3('test')\n",
    "b = Class_3('test2')"
   ]
  },
  {
   "cell_type": "code",
   "execution_count": 17,
   "metadata": {},
   "outputs": [
    {
     "name": "stdout",
     "output_type": "stream",
     "text": [
      "test\n",
      "test2\n"
     ]
    }
   ],
   "source": [
    "# 클래스 안에 있는 name변수를 호출\n",
    "print(a.name)\n",
    "print(b.name)"
   ]
  },
  {
   "cell_type": "code",
   "execution_count": 18,
   "metadata": {},
   "outputs": [
    {
     "name": "stdout",
     "output_type": "stream",
     "text": [
      "[]\n",
      "[]\n"
     ]
    }
   ],
   "source": [
    "# 클래스 안에 있는 _list 변수를 호출\n",
    "print(a._list)\n",
    "print(b._list)"
   ]
  },
  {
   "cell_type": "code",
   "execution_count": 24,
   "metadata": {},
   "outputs": [],
   "source": [
    "# 클래스 안에 있는 add_list() 함수 호출\n",
    "a.add_list('01012345678')\n",
    "b.add_list('01098765432')"
   ]
  },
  {
   "cell_type": "code",
   "execution_count": 25,
   "metadata": {},
   "outputs": [
    {
     "name": "stdout",
     "output_type": "stream",
     "text": [
      "test\n",
      "['01012345678']\n",
      "test2\n",
      "['01098765432']\n"
     ]
    }
   ],
   "source": [
    "# 클래스 안에 있는 name, _list 호출\n",
    "print(a.name)\n",
    "print(a._list)\n",
    "print(b.name)\n",
    "print(b._list)"
   ]
  }
 ],
 "metadata": {
  "kernelspec": {
   "display_name": "Python 3",
   "language": "python",
   "name": "python3"
  },
  "language_info": {
   "codemirror_mode": {
    "name": "ipython",
    "version": 3
   },
   "file_extension": ".py",
   "mimetype": "text/x-python",
   "name": "python",
   "nbconvert_exporter": "python",
   "pygments_lexer": "ipython3",
   "version": "3.11.0"
  },
  "orig_nbformat": 4
 },
 "nbformat": 4,
 "nbformat_minor": 2
}
